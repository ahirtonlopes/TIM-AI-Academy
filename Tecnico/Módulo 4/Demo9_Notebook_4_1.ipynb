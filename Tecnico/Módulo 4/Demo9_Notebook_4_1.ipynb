{
  "nbformat": 4,
  "nbformat_minor": 0,
  "metadata": {
    "colab": {
      "provenance": []
    },
    "kernelspec": {
      "name": "python3",
      "display_name": "Python 3"
    },
    "language_info": {
      "name": "python"
    }
  },
  "cells": [
    {
      "cell_type": "markdown",
      "source": [
        "# TIM AI Academy\n",
        "\n",
        "## Demonstração 9 - A partir de dataset fictício, explanação a respeito de método de coleta de dados (acesso via conector).\n",
        "\n",
        "### Prof. Dr. Ahirton Lopes (https://github.com/ahirtonlopes)"
      ],
      "metadata": {
        "id": "x1jeS2yUWtBw"
      }
    },
    {
      "cell_type": "markdown",
      "source": [
        "# Instalar a biblioteca necessária\n",
        "\n",
        "No caso do SQLite, a biblioteca necessária já vem embutida no Python, mas para outros bancos de dados (como MySQL, PostgreSQL), você precisaria instalar os conectores correspondentes.\n",
        "\n",
        "Se for trabalhar com bancos como MySQL, use:"
      ],
      "metadata": {
        "id": "U264PraVV_EH"
      }
    },
    {
      "cell_type": "code",
      "execution_count": 6,
      "metadata": {
        "colab": {
          "base_uri": "https://localhost:8080/"
        },
        "id": "PTYVHcktUNso",
        "outputId": "d3e6d37e-4c9a-490d-e58f-78d5625e3aa0"
      },
      "outputs": [
        {
          "output_type": "stream",
          "name": "stdout",
          "text": [
            "Requirement already satisfied: mysql-connector-python in /usr/local/lib/python3.10/dist-packages (9.1.0)\n"
          ]
        }
      ],
      "source": [
        "!pip install mysql-connector-python"
      ]
    },
    {
      "cell_type": "markdown",
      "source": [
        "Ou, se for usar PostgreSQL:"
      ],
      "metadata": {
        "id": "K7kgm6dSWMww"
      }
    },
    {
      "cell_type": "code",
      "source": [
        "!pip install psycopg2"
      ],
      "metadata": {
        "colab": {
          "base_uri": "https://localhost:8080/"
        },
        "id": "jL4m39IqU23n",
        "outputId": "5bc6bbc3-c8ad-485e-dee3-7b49b2bb63dc"
      },
      "execution_count": 7,
      "outputs": [
        {
          "output_type": "stream",
          "name": "stdout",
          "text": [
            "Requirement already satisfied: psycopg2 in /usr/local/lib/python3.10/dist-packages (2.9.10)\n"
          ]
        }
      ]
    },
    {
      "cell_type": "markdown",
      "source": [
        "# Criando uma base de dados SQLite (ou conecte-se a um banco real)\n",
        "\n",
        "Neste exemplo, vamos usar o SQLite, pois ele não requer instalação de servidores ou configurações complexas.\n",
        "\n",
        "Vamos criar uma base de dados simples com informações fictícias sobre clientes no contexto de uma empresa de telecomunicações."
      ],
      "metadata": {
        "id": "z_0-MdMAWQwu"
      }
    },
    {
      "cell_type": "code",
      "source": [
        "import sqlite3\n",
        "\n",
        "# Criar conexão com o banco de dados (será criado um arquivo chamado telecom.db)\n",
        "conn = sqlite3.connect('/content/telecom.db')\n",
        "\n",
        "# Criar um cursor para interagir com o banco\n",
        "cursor = conn.cursor()\n",
        "\n",
        "# Criar uma tabela fictícia\n",
        "cursor.execute('''\n",
        "CREATE TABLE IF NOT EXISTS clientes (\n",
        "    id INTEGER PRIMARY KEY AUTOINCREMENT,\n",
        "    nome TEXT NOT NULL,\n",
        "    idade INTEGER NOT NULL,\n",
        "    plano TEXT NOT NULL,\n",
        "    churn INTEGER NOT NULL\n",
        ")\n",
        "''')\n",
        "\n",
        "# Inserir dados fictícios na tabela\n",
        "cursor.executemany('''\n",
        "INSERT INTO clientes (nome, idade, plano, churn) VALUES (?, ?, ?, ?)\n",
        "''', [\n",
        "    ('João Silva', 35, 'Pré-pago', 1),\n",
        "    ('Maria Oliveira', 45, 'Pós-pago', 0),\n",
        "    ('Pedro Santos', 30, 'Pós-pago', 1),\n",
        "    ('Ana Souza', 28, 'Pré-pago', 0),\n",
        "])\n",
        "\n",
        "# Salvar as mudanças no banco de dados\n",
        "conn.commit()\n",
        "\n",
        "# Fechar a conexão\n",
        "conn.close()"
      ],
      "metadata": {
        "id": "4o9BLdtnU4Wp"
      },
      "execution_count": 8,
      "outputs": []
    },
    {
      "cell_type": "markdown",
      "source": [
        "# Consultar dados no banco de dados\n",
        "\n",
        "Agora que temos alguns dados na tabela clientes, vamos consultar essas informações utilizando SQL e trazê-las para o Python."
      ],
      "metadata": {
        "id": "3LfYG1IoWg5Z"
      }
    },
    {
      "cell_type": "code",
      "source": [
        "# Conectar ao banco de dados novamente\n",
        "conn = sqlite3.connect('/content/telecom.db')\n",
        "cursor = conn.cursor()\n",
        "\n",
        "# Consultar dados da tabela clientes\n",
        "cursor.execute('SELECT * FROM clientes')\n",
        "\n",
        "# Pegar os resultados da consulta\n",
        "clientes = cursor.fetchall()\n",
        "\n",
        "# Exibir os resultados\n",
        "for cliente in clientes:\n",
        "    print(cliente)\n",
        "\n",
        "# Fechar a conexão\n",
        "conn.close()"
      ],
      "metadata": {
        "colab": {
          "base_uri": "https://localhost:8080/"
        },
        "id": "aOsCPdtjU99i",
        "outputId": "7646af3c-6f50-4cbc-aa0a-1dd8b9672fc5"
      },
      "execution_count": 9,
      "outputs": [
        {
          "output_type": "stream",
          "name": "stdout",
          "text": [
            "(1, 'João Silva', 35, 'Pré-pago', 1)\n",
            "(2, 'Maria Oliveira', 45, 'Pós-pago', 0)\n",
            "(3, 'Pedro Santos', 30, 'Pós-pago', 1)\n",
            "(4, 'Ana Souza', 28, 'Pré-pago', 0)\n",
            "(5, 'João Silva', 35, 'Pré-pago', 1)\n",
            "(6, 'Maria Oliveira', 45, 'Pós-pago', 0)\n",
            "(7, 'Pedro Santos', 30, 'Pós-pago', 1)\n",
            "(8, 'Ana Souza', 28, 'Pré-pago', 0)\n"
          ]
        }
      ]
    },
    {
      "cell_type": "markdown",
      "source": [
        "# Salvar os dados em um formato utilizável (exemplo: .csv)\n",
        "\n",
        "Após coletar os dados, você pode querer exportá-los para um formato como CSV para análise."
      ],
      "metadata": {
        "id": "-q1gtKOMWlUu"
      }
    },
    {
      "cell_type": "code",
      "source": [
        "import csv\n",
        "\n",
        "# Salvar os dados em um arquivo CSV\n",
        "with open('/content/clientes_telecom.csv', mode='w', newline='', encoding='utf-8') as file:\n",
        "    writer = csv.writer(file)\n",
        "    writer.writerow(['ID', 'Nome', 'Idade', 'Plano', 'Churn'])  # Cabeçalho\n",
        "\n",
        "    # Escrever cada cliente no arquivo CSV\n",
        "    for cliente in clientes:\n",
        "        writer.writerow(cliente)\n",
        "\n",
        "# Baixar o arquivo CSV gerado\n",
        "from google.colab import files\n",
        "files.download('/content/clientes_telecom.csv')"
      ],
      "metadata": {
        "colab": {
          "base_uri": "https://localhost:8080/",
          "height": 17
        },
        "id": "6LX0ZEQmVCMj",
        "outputId": "45abf74e-4930-4bed-ecea-6a896cc7a7b7"
      },
      "execution_count": 10,
      "outputs": [
        {
          "output_type": "display_data",
          "data": {
            "text/plain": [
              "<IPython.core.display.Javascript object>"
            ],
            "application/javascript": [
              "\n",
              "    async function download(id, filename, size) {\n",
              "      if (!google.colab.kernel.accessAllowed) {\n",
              "        return;\n",
              "      }\n",
              "      const div = document.createElement('div');\n",
              "      const label = document.createElement('label');\n",
              "      label.textContent = `Downloading \"${filename}\": `;\n",
              "      div.appendChild(label);\n",
              "      const progress = document.createElement('progress');\n",
              "      progress.max = size;\n",
              "      div.appendChild(progress);\n",
              "      document.body.appendChild(div);\n",
              "\n",
              "      const buffers = [];\n",
              "      let downloaded = 0;\n",
              "\n",
              "      const channel = await google.colab.kernel.comms.open(id);\n",
              "      // Send a message to notify the kernel that we're ready.\n",
              "      channel.send({})\n",
              "\n",
              "      for await (const message of channel.messages) {\n",
              "        // Send a message to notify the kernel that we're ready.\n",
              "        channel.send({})\n",
              "        if (message.buffers) {\n",
              "          for (const buffer of message.buffers) {\n",
              "            buffers.push(buffer);\n",
              "            downloaded += buffer.byteLength;\n",
              "            progress.value = downloaded;\n",
              "          }\n",
              "        }\n",
              "      }\n",
              "      const blob = new Blob(buffers, {type: 'application/binary'});\n",
              "      const a = document.createElement('a');\n",
              "      a.href = window.URL.createObjectURL(blob);\n",
              "      a.download = filename;\n",
              "      div.appendChild(a);\n",
              "      a.click();\n",
              "      div.remove();\n",
              "    }\n",
              "  "
            ]
          },
          "metadata": {}
        },
        {
          "output_type": "display_data",
          "data": {
            "text/plain": [
              "<IPython.core.display.Javascript object>"
            ],
            "application/javascript": [
              "download(\"download_2160a049-5b87-4076-9ce5-213b8923b900\", \"clientes_telecom.csv\", 271)"
            ]
          },
          "metadata": {}
        }
      ]
    }
  ]
}