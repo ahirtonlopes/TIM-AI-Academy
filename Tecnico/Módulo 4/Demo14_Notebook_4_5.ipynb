{
  "nbformat": 4,
  "nbformat_minor": 0,
  "metadata": {
    "colab": {
      "provenance": []
    },
    "kernelspec": {
      "name": "python3",
      "display_name": "Python 3"
    },
    "language_info": {
      "name": "python"
    }
  },
  "cells": [
    {
      "cell_type": "markdown",
      "source": [
        "# TIM AI Academy\n",
        "\n",
        "## Demonstração 14 - Principal Component Analysis (PCA).\n",
        "\n",
        "### Prof. Dr. Ahirton Lopes (https://github.com/ahirtonlopes)\n",
        "\n",
        "### PCA é \"Machine Learning\"?\n",
        "\n",
        "E agora vamos dar uma pausa e discutiremos um pouco sobre o PCA, esse fantástico algoritmo de machine ... não é bem assim.\n",
        "\n",
        "O PCA não é um algoritmo de aprendizagem de máquina completo, mas um algoritmo de aprendizagem não supervisionada.\n",
        "\n",
        "Ou seja, o PCA é apenas uma transformação de nossos dados e tenta descobrir quais recursos explicam a maior variação em nossos dados."
      ],
      "metadata": {
        "id": "lMWJQS4VecJk"
      }
    },
    {
      "cell_type": "markdown",
      "source": [
        "## Imports diversos"
      ],
      "metadata": {
        "id": "0NCc0QBAe-uX"
      }
    },
    {
      "cell_type": "code",
      "execution_count": 48,
      "metadata": {
        "id": "ViouFi0KdX37"
      },
      "outputs": [],
      "source": [
        "# Importando bibliotecas necessárias\n",
        "import pandas as pd\n",
        "import numpy as np\n",
        "from sklearn.decomposition import PCA\n",
        "from sklearn.preprocessing import StandardScaler\n",
        "import matplotlib.pyplot as plt\n",
        "import seaborn as sns"
      ]
    },
    {
      "cell_type": "markdown",
      "source": [
        "## Nossos Dados\n",
        "\n",
        "Vamos simular uma base de dados contendo atributos relativos a características de redes como latência (ms), delay/jitter (ms), perda de pacotes (%), Throughput(Mbps) e tempo de conexão (s)."
      ],
      "metadata": {
        "id": "SLLjQHskffz5"
      }
    },
    {
      "cell_type": "code",
      "source": [
        "# Simulando um dataset com duas classes: Rede Estável e Rede Instável\n",
        "np.random.seed(42)\n",
        "n_samples = 200\n",
        "\n",
        "# Classe 0: Rede Estável\n",
        "stable_network = {\n",
        "    'Latency(ms)': np.random.normal(30, 5, n_samples // 2),\n",
        "    'Jitter(ms)': np.random.normal(2, 0.5, n_samples // 2),\n",
        "    'Packet Loss(%)': np.random.normal(0.2, 0.05, n_samples // 2),\n",
        "    'Throughput(Mbps)': np.random.normal(120, 10, n_samples // 2),\n",
        "    'Connection Time(s)': np.random.normal(25, 3, n_samples // 2),\n",
        "    'Class': 0\n",
        "}\n",
        "\n",
        "# Classe 1: Rede Instável\n",
        "unstable_network = {\n",
        "    'Latency(ms)': np.random.normal(60, 10, n_samples // 2),\n",
        "    'Jitter(ms)': np.random.normal(10, 2, n_samples // 2),\n",
        "    'Packet Loss(%)': np.random.normal(1.5, 0.3, n_samples // 2),\n",
        "    'Throughput(Mbps)': np.random.normal(80, 15, n_samples // 2),\n",
        "    'Connection Time(s)': np.random.normal(40, 5, n_samples // 2),\n",
        "    'Class': 1\n",
        "}\n",
        "\n",
        "# Criando o DataFrame\n",
        "df_stable = pd.DataFrame(stable_network)\n",
        "df_unstable = pd.DataFrame(unstable_network)\n",
        "df = pd.concat([df_stable, df_unstable], ignore_index=True)"
      ],
      "metadata": {
        "id": "Ltuldi7SfDMU"
      },
      "execution_count": 49,
      "outputs": []
    },
    {
      "cell_type": "code",
      "source": [
        "# Separando os rótulos\n",
        "labels = df['Class']\n",
        "features = df.drop(columns=['Class'])"
      ],
      "metadata": {
        "id": "xejfKa19fCWJ"
      },
      "execution_count": 50,
      "outputs": []
    },
    {
      "cell_type": "markdown",
      "source": [
        "## Pré-processamento: Padronizando os dados"
      ],
      "metadata": {
        "id": "7zw2vCcvf9sa"
      }
    },
    {
      "cell_type": "code",
      "source": [
        "# Padronizando os dados\n",
        "scaler = StandardScaler()\n",
        "scaled_features = scaler.fit_transform(features)"
      ],
      "metadata": {
        "id": "fouAhvvRf_aD"
      },
      "execution_count": 51,
      "outputs": []
    },
    {
      "cell_type": "markdown",
      "source": [
        "## Aplicando o PCA via scikit-learn"
      ],
      "metadata": {
        "id": "-YYUbCsigF32"
      }
    },
    {
      "cell_type": "markdown",
      "source": [
        "O PCA implementado no Scikit Learn utiliza um processo muito semelhante a outras funções de pré-processamento que o acompanham, ou seja, instancia-se um objeto PCA, localizamos então os componentes principais usando o método de ajuste e aplicamos a redução de rotação e dimensionalidade chamando *transform( )*.\n",
        "\n",
        "Também podemos especificar quantos componentes queremos manter ao criar o objeto PCA."
      ],
      "metadata": {
        "id": "haLLbPcIgAss"
      }
    },
    {
      "cell_type": "code",
      "source": [
        "# Aplicando PCA\n",
        "pca = PCA(n_components=2)\n",
        "pca_data = pca.fit_transform(scaled_features)"
      ],
      "metadata": {
        "id": "EWIfMAglfK09"
      },
      "execution_count": 52,
      "outputs": []
    },
    {
      "cell_type": "markdown",
      "source": [
        "Agora podemos transformar esses dados em seus dois primeiros componentes principais:"
      ],
      "metadata": {
        "id": "DFryNiJVgM7l"
      }
    },
    {
      "cell_type": "code",
      "source": [
        "# Criando um DataFrame com os componentes principais\n",
        "pca_df = pd.DataFrame(pca_data, columns=['PC1', 'PC2'])\n",
        "pca_df['Class'] = labels"
      ],
      "metadata": {
        "id": "mUbHQgRMgO_N"
      },
      "execution_count": 53,
      "outputs": []
    },
    {
      "cell_type": "markdown",
      "source": [
        "## Visualização do PCA\n",
        "\n",
        "Como observado em aula, é difícil visualizarmos dados de alta dimensão, podemos usar o PCA para encontrar os dois primeiros componentes principais e visualizar os dados nesse novo espaço bidimensional, com um único gráfico de dispersão. Antes de fazer isso, precisamos colocar nossos dados em escala para que cada recurso tenha uma única variação de unidade (no exemplo, via StandardScaler)."
      ],
      "metadata": {
        "id": "MlUD42EMgPw9"
      }
    },
    {
      "cell_type": "markdown",
      "source": [
        "Que tal plotarmos as duas dimensões restantes?"
      ],
      "metadata": {
        "id": "NkhbzEcHgS9G"
      }
    },
    {
      "cell_type": "code",
      "source": [
        "# Visualizando os dados reduzidos\n",
        "plt.figure(figsize=(10, 6))\n",
        "for label, color in zip([0, 1], ['blue', 'red']):\n",
        "    plt.scatter(\n",
        "        pca_df[pca_df['Class'] == label]['PC1'],\n",
        "        pca_df[pca_df['Class'] == label]['PC2'],\n",
        "        alpha=0.7,\n",
        "        label=f\"Class {label} - {'Estável' if label == 0 else 'Instável'}\",\n",
        "        color=color\n",
        "    )\n",
        "plt.title(\"Separação de Classes com PCA\")\n",
        "plt.xlabel(\"Componente Principal 1 (PC1)\")\n",
        "plt.ylabel(\"Componente Principal 2 (PC2)\")\n",
        "plt.legend()\n",
        "plt.grid(True)\n",
        "plt.show()"
      ],
      "metadata": {
        "colab": {
          "base_uri": "https://localhost:8080/",
          "height": 564
        },
        "id": "6VaUe0AlfMqR",
        "outputId": "f89b9daf-60b1-453b-a364-797230642698"
      },
      "execution_count": 54,
      "outputs": [
        {
          "output_type": "display_data",
          "data": {
            "text/plain": [
              "<Figure size 1000x600 with 1 Axes>"
            ],
            "image/png": "[encoded data removed]"
          },
          "metadata": {}
        }
      ]
    },
    {
      "cell_type": "code",
      "source": [
        "# Variância explicada por cada componente\n",
        "explained_variance = pca.explained_variance_ratio_\n",
        "print(\"Variância explicada pelos componentes principais:\", explained_variance)"
      ],
      "metadata": {
        "colab": {
          "base_uri": "https://localhost:8080/"
        },
        "id": "z3b2naAzfOCb",
        "outputId": "963b27be-7f1a-4429-b558-b64949366816"
      },
      "execution_count": 55,
      "outputs": [
        {
          "output_type": "stream",
          "name": "stdout",
          "text": [
            "Variância explicada pelos componentes principais: [0.85605554 0.05092218]\n"
          ]
        }
      ]
    },
    {
      "cell_type": "markdown",
      "source": [
        "Pelo que podemos observar, a partir do uso desses dois componentes, podemos separar facilmente essas duas classes.\n",
        "\n",
        "## Interpretando os componentes\n",
        "\n",
        "Infelizmente, com esse grande poder de redução da dimensionalidade, vem o custo de poder entender facilmente o que esses componentes representam.\n",
        "\n",
        "A separação entre as classes no gráfico indica que o PCA capturou diferenças significativas nas métricas que definem a \"Rede Estável\" e a \"Rede Instável\".\n",
        "\n",
        "Os componentes correspondem a combinações dos recursos originais, os próprios componentes são armazenados como um atributo do objeto PCA ajustado:\n"
      ],
      "metadata": {
        "id": "B2gV9n25gcF9"
      }
    },
    {
      "cell_type": "code",
      "source": [
        "pca.components_"
      ],
      "metadata": {
        "colab": {
          "base_uri": "https://localhost:8080/"
        },
        "id": "x1JHi9-ege4R",
        "outputId": "820c24dc-2459-4ade-e265-c1fd4368d854"
      },
      "execution_count": 56,
      "outputs": [
        {
          "output_type": "execute_result",
          "data": {
            "text/plain": [
              "array([[ 0.44449449,  0.45107005,  0.46292285, -0.43327932,  0.44377012],\n",
              "       [-0.22455288,  0.35605238,  0.12108376,  0.76055185,  0.47927269]])"
            ]
          },
          "metadata": {},
          "execution_count": 56
        }
      ]
    },
    {
      "cell_type": "markdown",
      "source": [
        "Já a variância explicada ajuda a entender o quanto da informação original foi retida nos dois componentes principais.\n",
        "\n",
        "Esse exemplo é relevante para análises em telecom, como classificação de tipos de rede ou identificação de problemas de desempenho.\n"
      ],
      "metadata": {
        "id": "MrGh3yLrjL1j"
      }
    },
    {
      "cell_type": "code",
      "source": [
        "df_comp = pd.DataFrame(pca.components_, columns=features.columns, index=['PC1', 'PC2'])\n",
        "df_comp"
      ],
      "metadata": {
        "colab": {
          "base_uri": "https://localhost:8080/",
          "height": 125
        },
        "id": "6xfdm_8pgkyD",
        "outputId": "b7a800fb-6239-477c-bbcd-f2921df27457"
      },
      "execution_count": 57,
      "outputs": [
        {
          "output_type": "execute_result",
          "data": {
            "text/plain": [
              "     Latency(ms)  Jitter(ms)  Packet Loss(%)  Throughput(Mbps)  \\\n",
              "PC1     0.444494    0.451070        0.462923         -0.433279   \n",
              "PC2    -0.224553    0.356052        0.121084          0.760552   \n",
              "\n",
              "     Connection Time(s)  \n",
              "PC1            0.443770  \n",
              "PC2            0.479273  "
            ],
            "text/html": [
              "\n",
              "  <div id=\"df-9d4d0f7c-0c18-42a6-8448-45f9042b5a30\" class=\"colab-df-container\">\n",
              "    <div>\n",
              "<style scoped>\n",
              "    .dataframe tbody tr th:only-of-type {\n",
              "        vertical-align: middle;\n",
              "    }\n",
              "\n",
              "    .dataframe tbody tr th {\n",
              "        vertical-align: top;\n",
              "    }\n",
              "\n",
              "    .dataframe thead th {\n",
              "        text-align: right;\n",
              "    }\n",
              "</style>\n",
              "<table border=\"1\" class=\"dataframe\">\n",
              "  <thead>\n",
              "    <tr style=\"text-align: right;\">\n",
              "      <th></th>\n",
              "      <th>Latency(ms)</th>\n",
              "      <th>Jitter(ms)</th>\n",
              "      <th>Packet Loss(%)</th>\n",
              "      <th>Throughput(Mbps)</th>\n",
              "      <th>Connection Time(s)</th>\n",
              "    </tr>\n",
              "  </thead>\n",
              "  <tbody>\n",
              "    <tr>\n",
              "      <th>PC1</th>\n",
              "      <td>0.444494</td>\n",
              "      <td>0.451070</td>\n",
              "      <td>0.462923</td>\n",
              "      <td>-0.433279</td>\n",
              "      <td>0.443770</td>\n",
              "    </tr>\n",
              "    <tr>\n",
              "      <th>PC2</th>\n",
              "      <td>-0.224553</td>\n",
              "      <td>0.356052</td>\n",
              "      <td>0.121084</td>\n",
              "      <td>0.760552</td>\n",
              "      <td>0.479273</td>\n",
              "    </tr>\n",
              "  </tbody>\n",
              "</table>\n",
              "</div>\n",
              "    <div class=\"colab-df-buttons\">\n",
              "\n",
              "  <div class=\"colab-df-container\">\n",
              "    <button class=\"colab-df-convert\" onclick=\"convertToInteractive('df-9d4d0f7c-0c18-42a6-8448-45f9042b5a30')\"\n",
              "            title=\"Convert this dataframe to an interactive table.\"\n",
              "            style=\"display:none;\">\n",
              "\n",
              "  <svg xmlns=\"http://www.w3.org/2000/svg\" height=\"24px\" viewBox=\"0 -960 960 960\">\n",
              "    <path d=\"M120-120v-720h720v720H120Zm60-500h600v-160H180v160Zm220 220h160v-160H400v160Zm0 220h160v-160H400v160ZM180-400h160v-160H180v160Zm440 0h160v-160H620v160ZM180-180h160v-160H180v160Zm440 0h160v-160H620v160Z\"/>\n",
              "  </svg>\n",
              "    </button>\n",
              "\n",
              "  <style>\n",
              "    .colab-df-container {\n",
              "      display:flex;\n",
              "      gap: 12px;\n",
              "    }\n",
              "\n",
              "    .colab-df-convert {\n",
              "      background-color: #E8F0FE;\n",
              "      border: none;\n",
              "      border-radius: 50%;\n",
              "      cursor: pointer;\n",
              "      display: none;\n",
              "      fill: #1967D2;\n",
              "      height: 32px;\n",
              "      padding: 0 0 0 0;\n",
              "      width: 32px;\n",
              "    }\n",
              "\n",
              "    .colab-df-convert:hover {\n",
              "      background-color: #E2EBFA;\n",
              "      box-shadow: 0px 1px 2px rgba(60, 64, 67, 0.3), 0px 1px 3px 1px rgba(60, 64, 67, 0.15);\n",
              "      fill: #174EA6;\n",
              "    }\n",
              "\n",
              "    .colab-df-buttons div {\n",
              "      margin-bottom: 4px;\n",
              "    }\n",
              "\n",
              "    [theme=dark] .colab-df-convert {\n",
              "      background-color: #3B4455;\n",
              "      fill: #D2E3FC;\n",
              "    }\n",
              "\n",
              "    [theme=dark] .colab-df-convert:hover {\n",
              "      background-color: #434B5C;\n",
              "      box-shadow: 0px 1px 3px 1px rgba(0, 0, 0, 0.15);\n",
              "      filter: drop-shadow(0px 1px 2px rgba(0, 0, 0, 0.3));\n",
              "      fill: #FFFFFF;\n",
              "    }\n",
              "  </style>\n",
              "\n",
              "    <script>\n",
              "      const buttonEl =\n",
              "        document.querySelector('#df-9d4d0f7c-0c18-42a6-8448-45f9042b5a30 button.colab-df-convert');\n",
              "      buttonEl.style.display =\n",
              "        google.colab.kernel.accessAllowed ? 'block' : 'none';\n",
              "\n",
              "      async function convertToInteractive(key) {\n",
              "        const element = document.querySelector('#df-9d4d0f7c-0c18-42a6-8448-45f9042b5a30');\n",
              "        const dataTable =\n",
              "          await google.colab.kernel.invokeFunction('convertToInteractive',\n",
              "                                                    [key], {});\n",
              "        if (!dataTable) return;\n",
              "\n",
              "        const docLinkHtml = 'Like what you see? Visit the ' +\n",
              "          '<a target=\"_blank\" href=https://colab.research.google.com/notebooks/data_table.ipynb>data table notebook</a>'\n",
              "          + ' to learn more about interactive tables.';\n",
              "        element.innerHTML = '';\n",
              "        dataTable['output_type'] = 'display_data';\n",
              "        await google.colab.output.renderOutput(dataTable, element);\n",
              "        const docLink = document.createElement('div');\n",
              "        docLink.innerHTML = docLinkHtml;\n",
              "        element.appendChild(docLink);\n",
              "      }\n",
              "    </script>\n",
              "  </div>\n",
              "\n",
              "\n",
              "<div id=\"df-7bc35054-c514-4e78-8857-9d6440c85363\">\n",
              "  <button class=\"colab-df-quickchart\" onclick=\"quickchart('df-7bc35054-c514-4e78-8857-9d6440c85363')\"\n",
              "            title=\"Suggest charts\"\n",
              "            style=\"display:none;\">\n",
              "\n",
              "<svg xmlns=\"http://www.w3.org/2000/svg\" height=\"24px\"viewBox=\"0 0 24 24\"\n",
              "     width=\"24px\">\n",
              "    <g>\n",
              "        <path d=\"M19 3H5c-1.1 0-2 .9-2 2v14c0 1.1.9 2 2 2h14c1.1 0 2-.9 2-2V5c0-1.1-.9-2-2-2zM9 17H7v-7h2v7zm4 0h-2V7h2v10zm4 0h-2v-4h2v4z\"/>\n",
              "    </g>\n",
              "</svg>\n",
              "  </button>\n",
              "\n",
              "<style>\n",
              "  .colab-df-quickchart {\n",
              "      --bg-color: #E8F0FE;\n",
              "      --fill-color: #1967D2;\n",
              "      --hover-bg-color: #E2EBFA;\n",
              "      --hover-fill-color: #174EA6;\n",
              "      --disabled-fill-color: #AAA;\n",
              "      --disabled-bg-color: #DDD;\n",
              "  }\n",
              "\n",
              "  [theme=dark] .colab-df-quickchart {\n",
              "      --bg-color: #3B4455;\n",
              "      --fill-color: #D2E3FC;\n",
              "      --hover-bg-color: #434B5C;\n",
              "      --hover-fill-color: #FFFFFF;\n",
              "      --disabled-bg-color: #3B4455;\n",
              "      --disabled-fill-color: #666;\n",
              "  }\n",
              "\n",
              "  .colab-df-quickchart {\n",
              "    background-color: var(--bg-color);\n",
              "    border: none;\n",
              "    border-radius: 50%;\n",
              "    cursor: pointer;\n",
              "    display: none;\n",
              "    fill: var(--fill-color);\n",
              "    height: 32px;\n",
              "    padding: 0;\n",
              "    width: 32px;\n",
              "  }\n",
              "\n",
              "  .colab-df-quickchart:hover {\n",
              "    background-color: var(--hover-bg-color);\n",
              "    box-shadow: 0 1px 2px rgba(60, 64, 67, 0.3), 0 1px 3px 1px rgba(60, 64, 67, 0.15);\n",
              "    fill: var(--button-hover-fill-color);\n",
              "  }\n",
              "\n",
              "  .colab-df-quickchart-complete:disabled,\n",
              "  .colab-df-quickchart-complete:disabled:hover {\n",
              "    background-color: var(--disabled-bg-color);\n",
              "    fill: var(--disabled-fill-color);\n",
              "    box-shadow: none;\n",
              "  }\n",
              "\n",
              "  .colab-df-spinner {\n",
              "    border: 2px solid var(--fill-color);\n",
              "    border-color: transparent;\n",
              "    border-bottom-color: var(--fill-color);\n",
              "    animation:\n",
              "      spin 1s steps(1) infinite;\n",
              "  }\n",
              "\n",
              "  @keyframes spin {\n",
              "    0% {\n",
              "      border-color: transparent;\n",
              "      border-bottom-color: var(--fill-color);\n",
              "      border-left-color: var(--fill-color);\n",
              "    }\n",
              "    20% {\n",
              "      border-color: transparent;\n",
              "      border-left-color: var(--fill-color);\n",
              "      border-top-color: var(--fill-color);\n",
              "    }\n",
              "    30% {\n",
              "      border-color: transparent;\n",
              "      border-left-color: var(--fill-color);\n",
              "      border-top-color: var(--fill-color);\n",
              "      border-right-color: var(--fill-color);\n",
              "    }\n",
              "    40% {\n",
              "      border-color: transparent;\n",
              "      border-right-color: var(--fill-color);\n",
              "      border-top-color: var(--fill-color);\n",
              "    }\n",
              "    60% {\n",
              "      border-color: transparent;\n",
              "      border-right-color: var(--fill-color);\n",
              "    }\n",
              "    80% {\n",
              "      border-color: transparent;\n",
              "      border-right-color: var(--fill-color);\n",
              "      border-bottom-color: var(--fill-color);\n",
              "    }\n",
              "    90% {\n",
              "      border-color: transparent;\n",
              "      border-bottom-color: var(--fill-color);\n",
              "    }\n",
              "  }\n",
              "</style>\n",
              "\n",
              "  <script>\n",
              "    async function quickchart(key) {\n",
              "      const quickchartButtonEl =\n",
              "        document.querySelector('#' + key + ' button');\n",
              "      quickchartButtonEl.disabled = true;  // To prevent multiple clicks.\n",
              "      quickchartButtonEl.classList.add('colab-df-spinner');\n",
              "      try {\n",
              "        const charts = await google.colab.kernel.invokeFunction(\n",
              "            'suggestCharts', [key], {});\n",
              "      } catch (error) {\n",
              "        console.error('Error during call to suggestCharts:', error);\n",
              "      }\n",
              "      quickchartButtonEl.classList.remove('colab-df-spinner');\n",
              "      quickchartButtonEl.classList.add('colab-df-quickchart-complete');\n",
              "    }\n",
              "    (() => {\n",
              "      let quickchartButtonEl =\n",
              "        document.querySelector('#df-7bc35054-c514-4e78-8857-9d6440c85363 button');\n",
              "      quickchartButtonEl.style.display =\n",
              "        google.colab.kernel.accessAllowed ? 'block' : 'none';\n",
              "    })();\n",
              "  </script>\n",
              "</div>\n",
              "\n",
              "  <div id=\"id_22a734c9-c19a-45aa-a8cd-ca65395b8758\">\n",
              "    <style>\n",
              "      .colab-df-generate {\n",
              "        background-color: #E8F0FE;\n",
              "        border: none;\n",
              "        border-radius: 50%;\n",
              "        cursor: pointer;\n",
              "        display: none;\n",
              "        fill: #1967D2;\n",
              "        height: 32px;\n",
              "        padding: 0 0 0 0;\n",
              "        width: 32px;\n",
              "      }\n",
              "\n",
              "      .colab-df-generate:hover {\n",
              "        background-color: #E2EBFA;\n",
              "        box-shadow: 0px 1px 2px rgba(60, 64, 67, 0.3), 0px 1px 3px 1px rgba(60, 64, 67, 0.15);\n",
              "        fill: #174EA6;\n",
              "      }\n",
              "\n",
              "      [theme=dark] .colab-df-generate {\n",
              "        background-color: #3B4455;\n",
              "        fill: #D2E3FC;\n",
              "      }\n",
              "\n",
              "      [theme=dark] .colab-df-generate:hover {\n",
              "        background-color: #434B5C;\n",
              "        box-shadow: 0px 1px 3px 1px rgba(0, 0, 0, 0.15);\n",
              "        filter: drop-shadow(0px 1px 2px rgba(0, 0, 0, 0.3));\n",
              "        fill: #FFFFFF;\n",
              "      }\n",
              "    </style>\n",
              "    <button class=\"colab-df-generate\" onclick=\"generateWithVariable('df_comp')\"\n",
              "            title=\"Generate code using this dataframe.\"\n",
              "            style=\"display:none;\">\n",
              "\n",
              "  <svg xmlns=\"http://www.w3.org/2000/svg\" height=\"24px\"viewBox=\"0 0 24 24\"\n",
              "       width=\"24px\">\n",
              "    <path d=\"M7,19H8.4L18.45,9,17,7.55,7,17.6ZM5,21V16.75L18.45,3.32a2,2,0,0,1,2.83,0l1.4,1.43a1.91,1.91,0,0,1,.58,1.4,1.91,1.91,0,0,1-.58,1.4L9.25,21ZM18.45,9,17,7.55Zm-12,3A5.31,5.31,0,0,0,4.9,8.1,5.31,5.31,0,0,0,1,6.5,5.31,5.31,0,0,0,4.9,4.9,5.31,5.31,0,0,0,6.5,1,5.31,5.31,0,0,0,8.1,4.9,5.31,5.31,0,0,0,12,6.5,5.46,5.46,0,0,0,6.5,12Z\"/>\n",
              "  </svg>\n",
              "    </button>\n",
              "    <script>\n",
              "      (() => {\n",
              "      const buttonEl =\n",
              "        document.querySelector('#id_22a734c9-c19a-45aa-a8cd-ca65395b8758 button.colab-df-generate');\n",
              "      buttonEl.style.display =\n",
              "        google.colab.kernel.accessAllowed ? 'block' : 'none';\n",
              "\n",
              "      buttonEl.onclick = () => {\n",
              "        google.colab.notebook.generateWithVariable('df_comp');\n",
              "      }\n",
              "      })();\n",
              "    </script>\n",
              "  </div>\n",
              "\n",
              "    </div>\n",
              "  </div>\n"
            ],
            "application/vnd.google.colaboratory.intrinsic+json": {
              "type": "dataframe",
              "variable_name": "df_comp",
              "summary": "{\n  \"name\": \"df_comp\",\n  \"rows\": 2,\n  \"fields\": [\n    {\n      \"column\": \"Latency(ms)\",\n      \"properties\": {\n        \"dtype\": \"number\",\n        \"std\": 0.4730879327509681,\n        \"min\": -0.22455287668295731,\n        \"max\": 0.4444944940085125,\n        \"num_unique_values\": 2,\n        \"samples\": [\n          -0.22455287668295731,\n          0.4444944940085125\n        ],\n        \"semantic_type\": \"\",\n        \"description\": \"\"\n      }\n    },\n    {\n      \"column\": \"Jitter(ms)\",\n      \"properties\": {\n        \"dtype\": \"number\",\n        \"std\": 0.06718763406938427,\n        \"min\": 0.3560523834679592,\n        \"max\": 0.45107004679264306,\n        \"num_unique_values\": 2,\n        \"samples\": [\n          0.3560523834679592,\n          0.45107004679264306\n        ],\n        \"semantic_type\": \"\",\n        \"description\": \"\"\n      }\n    },\n    {\n      \"column\": \"Packet Loss(%)\",\n      \"properties\": {\n        \"dtype\": \"number\",\n        \"std\": 0.24171673551389203,\n        \"min\": 0.12108376125309359,\n        \"max\": 0.46292284686939006,\n        \"num_unique_values\": 2,\n        \"samples\": [\n          0.12108376125309359,\n          0.46292284686939006\n        ],\n        \"semantic_type\": \"\",\n        \"description\": \"\"\n      }\n    },\n    {\n      \"column\": \"Throughput(Mbps)\",\n      \"properties\": {\n        \"dtype\": \"number\",\n        \"std\": 0.8441661170805292,\n        \"min\": -0.43327932407342695,\n        \"max\": 0.7605518475976916,\n        \"num_unique_values\": 2,\n        \"samples\": [\n          0.7605518475976916,\n          -0.43327932407342695\n        ],\n        \"semantic_type\": \"\",\n        \"description\": \"\"\n      }\n    },\n    {\n      \"column\": \"Connection Time(s)\",\n      \"properties\": {\n        \"dtype\": \"number\",\n        \"std\": 0.025104108414026452,\n        \"min\": 0.4437701238923283,\n        \"max\": 0.479272694482729,\n        \"num_unique_values\": 2,\n        \"samples\": [\n          0.479272694482729,\n          0.4437701238923283\n        ],\n        \"semantic_type\": \"\",\n        \"description\": \"\"\n      }\n    }\n  ]\n}"
            }
          },
          "metadata": {},
          "execution_count": 57
        }
      ]
    },
    {
      "cell_type": "markdown",
      "source": [
        "Nesse array matricial numpy, cada linha representa um componente principal, e cada coluna se relaciona novamente aos recursos originais. Ainda, podemos visualizar esse relacionamento com um mapa de calor.\n",
        "\n",
        "Podem notar que esse mapa de calor, e a barra de cores, representam basicamente a correlação entre os vários recursos e o próprio componente principal."
      ],
      "metadata": {
        "id": "zOx6DqbThRo_"
      }
    },
    {
      "cell_type": "code",
      "source": [
        "plt.figure(figsize=(12,6))\n",
        "sns.heatmap(df_comp,cmap='plasma',)"
      ],
      "metadata": {
        "colab": {
          "base_uri": "https://localhost:8080/",
          "height": 539
        },
        "id": "-JaHwfRMhCZU",
        "outputId": "ae2d7bce-7cc0-47d4-8582-9b67b97dd319"
      },
      "execution_count": 58,
      "outputs": [
        {
          "output_type": "execute_result",
          "data": {
            "text/plain": [
              "<Axes: >"
            ]
          },
          "metadata": {},
          "execution_count": 58
        },
        {
          "output_type": "display_data",
          "data": {
            "text/plain": [
              "<Figure size 1200x600 with 2 Axes>"
            ],
            "image/png": "[encoded data removed]"
          },
          "metadata": {}
        }
      ]
    }
  ]
}