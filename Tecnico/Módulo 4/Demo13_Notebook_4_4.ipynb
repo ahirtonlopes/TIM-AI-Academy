{
  "nbformat": 4,
  "nbformat_minor": 0,
  "metadata": {
    "colab": {
      "provenance": []
    },
    "kernelspec": {
      "name": "python3",
      "display_name": "Python 3"
    },
    "language_info": {
      "name": "python"
    }
  },
  "cells": [
    {
      "cell_type": "markdown",
      "source": [
        "\n",
        "# TIM AI Academy\n",
        "\n",
        "## Demonstração 12 - A partir do dataset fictício, explanação a respeito de tarnsformação de dados categóricos (encoding).\n",
        "\n",
        "### Prof. Dr. Ahirton Lopes (https://github.com/ahirtonlopes)"
      ],
      "metadata": {
        "id": "X0PTbIDbNUv3"
      }
    },
    {
      "cell_type": "code",
      "execution_count": 7,
      "metadata": {
        "id": "Bw4s9XSlMYPP"
      },
      "outputs": [],
      "source": [
        "import pandas as pd\n",
        "from sklearn.preprocessing import LabelEncoder\n",
        "import numpy as np"
      ]
    },
    {
      "cell_type": "markdown",
      "source": [
        "Para este exemplo, temos informações de clientes de uma operadora, como Plano de Assinatura, Status de Pagamento e Segmento de Cliente.\n",
        "\n",
        "Esses são dados categóricos que precisam ser convertidos para valores numéricos para serem usados em modelos de machine learning."
      ],
      "metadata": {
        "id": "YlDw6FUnNGh2"
      }
    },
    {
      "cell_type": "code",
      "source": [
        "\n",
        "# Exemplo de dataset simulado do mundo de telecomunicações\n",
        "data = {\n",
        "    'Plano': ['Fixo', 'Móvel', 'Fixo', 'Móvel', 'Fixo', 'Fixo', 'Móvel', 'Móvel'],\n",
        "    'Status_Pagamento': ['Pago', 'Não Pago', 'Pago', 'Não Pago', 'Pago', 'Pago', 'Não Pago', 'Pago'],\n",
        "    'Segmento_Cliente': ['Residencial', 'Corporativo', 'Residencial', 'Corporativo', 'Residencial', 'Corporativo', 'Corporativo', 'Residencial'],\n",
        "    'Churn': [0, 1, 0, 1, 0, 0, 1, 0]  # 0 = Não Churn, 1 = Churn\n",
        "}\n",
        "\n",
        "df = pd.DataFrame(data)"
      ],
      "metadata": {
        "id": "rqpKzWShM3X0"
      },
      "execution_count": 8,
      "outputs": []
    },
    {
      "cell_type": "markdown",
      "source": [
        "Label Encoding:\n",
        "\n",
        "Utilizado para variáveis que possuem uma ordem natural, como 'Plano' ou 'Status de Pagamento'. Esse método substitui cada categoria por um valor numérico. O \"Plano\" Fixo será transformado em 0, Móvel em 1, e assim por diante.\n",
        "\n",
        "One-Hot Encoding:\n",
        "\n",
        "Cria colunas binárias para cada categoria (sem relação de ordem). Por exemplo, criamos colunas separadas para o \"Plano Fixo\" e \"Plano Móvel\", onde a presença de cada categoria é indicada por 1 ou 0.\n",
        "\n",
        "Count Encoding:\n",
        "\n",
        "Substitui cada categoria pela frequência de sua ocorrência. No exemplo, 'Fixo' ocorre 4 vezes, então a categoria 'Fixo' recebe o valor 4. Isso pode ser útil quando se quer capturar a \"popularidade\" de cada categoria.\n",
        "\n",
        "Target Encoding:\n",
        "\n",
        "Substitui cada categoria pela média da variável target ('Churn' nesse caso). Se a média de 'Churn' para o \"Plano Fixo\" for 0.25, todas as instâncias de \"Plano Fixo\" terão esse valor. Esse método pode capturar relações mais profundas entre a variável categórica e o target."
      ],
      "metadata": {
        "id": "qUrxUZtpM80Q"
      }
    },
    {
      "cell_type": "code",
      "source": [
        "# 1. Label Encoding - Para variáveis ordinais ou categóricas com uma ordem\n",
        "label_encoder = LabelEncoder()\n",
        "df['Plano_Encoded'] = label_encoder.fit_transform(df['Plano'])\n",
        "df['Status_Pagamento_Encoded'] = label_encoder.fit_transform(df['Status_Pagamento'])\n",
        "df['Segmento_Cliente_Encoded'] = label_encoder.fit_transform(df['Segmento_Cliente'])\n",
        "\n",
        "print(\"Label Encoding:\")\n",
        "print(df[['Plano', 'Plano_Encoded', 'Status_Pagamento', 'Status_Pagamento_Encoded', 'Segmento_Cliente', 'Segmento_Cliente_Encoded']])"
      ],
      "metadata": {
        "colab": {
          "base_uri": "https://localhost:8080/"
        },
        "id": "db2nI521MuJx",
        "outputId": "09d5c1f9-0e97-4487-f11e-08667ea9a8d0"
      },
      "execution_count": 9,
      "outputs": [
        {
          "output_type": "stream",
          "name": "stdout",
          "text": [
            "Label Encoding:\n",
            "   Plano  Plano_Encoded Status_Pagamento  Status_Pagamento_Encoded  \\\n",
            "0   Fixo              0             Pago                         1   \n",
            "1  Móvel              1         Não Pago                         0   \n",
            "2   Fixo              0             Pago                         1   \n",
            "3  Móvel              1         Não Pago                         0   \n",
            "4   Fixo              0             Pago                         1   \n",
            "5   Fixo              0             Pago                         1   \n",
            "6  Móvel              1         Não Pago                         0   \n",
            "7  Móvel              1             Pago                         1   \n",
            "\n",
            "  Segmento_Cliente  Segmento_Cliente_Encoded  \n",
            "0      Residencial                         1  \n",
            "1      Corporativo                         0  \n",
            "2      Residencial                         1  \n",
            "3      Corporativo                         0  \n",
            "4      Residencial                         1  \n",
            "5      Corporativo                         0  \n",
            "6      Corporativo                         0  \n",
            "7      Residencial                         1  \n"
          ]
        }
      ]
    },
    {
      "cell_type": "code",
      "source": [
        "# 2. One-Hot Encoding - Para variáveis categóricas nominais\n",
        "df_one_hot = pd.get_dummies(df[['Plano', 'Status_Pagamento', 'Segmento_Cliente']], prefix=['Plano', 'Status_Pagamento', 'Segmento_Cliente'])\n",
        "print(\"\\nOne-Hot Encoding:\")\n",
        "print(df_one_hot)"
      ],
      "metadata": {
        "colab": {
          "base_uri": "https://localhost:8080/"
        },
        "id": "wp47VrEyMylq",
        "outputId": "864175f8-55b5-4dbf-eb72-ac3c7950d317"
      },
      "execution_count": 10,
      "outputs": [
        {
          "output_type": "stream",
          "name": "stdout",
          "text": [
            "\n",
            "One-Hot Encoding:\n",
            "   Plano_Fixo  Plano_Móvel  Status_Pagamento_Não Pago  Status_Pagamento_Pago  \\\n",
            "0        True        False                      False                   True   \n",
            "1       False         True                       True                  False   \n",
            "2        True        False                      False                   True   \n",
            "3       False         True                       True                  False   \n",
            "4        True        False                      False                   True   \n",
            "5        True        False                      False                   True   \n",
            "6       False         True                       True                  False   \n",
            "7       False         True                      False                   True   \n",
            "\n",
            "   Segmento_Cliente_Corporativo  Segmento_Cliente_Residencial  \n",
            "0                         False                          True  \n",
            "1                          True                         False  \n",
            "2                         False                          True  \n",
            "3                          True                         False  \n",
            "4                         False                          True  \n",
            "5                          True                         False  \n",
            "6                          True                         False  \n",
            "7                         False                          True  \n"
          ]
        }
      ]
    },
    {
      "cell_type": "code",
      "source": [
        "# 3. Count Encoding - Substitui categorias pela frequência de sua ocorrência\n",
        "count_encoding_plano = df['Plano'].value_counts()\n",
        "count_encoding_segmento = df['Segmento_Cliente'].value_counts()\n",
        "\n",
        "df['Plano_Count_Encoded'] = df['Plano'].map(count_encoding_plano)\n",
        "df['Segmento_Count_Encoded'] = df['Segmento_Cliente'].map(count_encoding_segmento)\n",
        "\n",
        "print(\"\\nCount Encoding:\")\n",
        "print(df[['Plano', 'Plano_Count_Encoded', 'Segmento_Cliente', 'Segmento_Count_Encoded']])"
      ],
      "metadata": {
        "colab": {
          "base_uri": "https://localhost:8080/"
        },
        "id": "eooLBi3LMzQo",
        "outputId": "0bbc5f64-9947-4fe6-9c6e-c29b19f0b2a4"
      },
      "execution_count": 11,
      "outputs": [
        {
          "output_type": "stream",
          "name": "stdout",
          "text": [
            "\n",
            "Count Encoding:\n",
            "   Plano  Plano_Count_Encoded Segmento_Cliente  Segmento_Count_Encoded\n",
            "0   Fixo                    4      Residencial                       4\n",
            "1  Móvel                    4      Corporativo                       4\n",
            "2   Fixo                    4      Residencial                       4\n",
            "3  Móvel                    4      Corporativo                       4\n",
            "4   Fixo                    4      Residencial                       4\n",
            "5   Fixo                    4      Corporativo                       4\n",
            "6  Móvel                    4      Corporativo                       4\n",
            "7  Móvel                    4      Residencial                       4\n"
          ]
        }
      ]
    },
    {
      "cell_type": "code",
      "source": [
        "# 4. Target Encoding - Usando a variável 'Churn' como target\n",
        "df['Plano_Target_Encoded'] = df.groupby('Plano')['Churn'].transform('mean')\n",
        "df['Segmento_Target_Encoded'] = df.groupby('Segmento_Cliente')['Churn'].transform('mean')\n",
        "\n",
        "print(\"\\nTarget Encoding:\")\n",
        "print(df[['Plano', 'Plano_Target_Encoded', 'Segmento_Cliente', 'Segmento_Target_Encoded']])"
      ],
      "metadata": {
        "colab": {
          "base_uri": "https://localhost:8080/"
        },
        "id": "D7nCfPd6Mwmm",
        "outputId": "d0cbbbb6-f67a-475b-c83b-f6d12a2d0ce6"
      },
      "execution_count": 12,
      "outputs": [
        {
          "output_type": "stream",
          "name": "stdout",
          "text": [
            "\n",
            "Target Encoding:\n",
            "   Plano  Plano_Target_Encoded Segmento_Cliente  Segmento_Target_Encoded\n",
            "0   Fixo                  0.00      Residencial                     0.00\n",
            "1  Móvel                  0.75      Corporativo                     0.75\n",
            "2   Fixo                  0.00      Residencial                     0.00\n",
            "3  Móvel                  0.75      Corporativo                     0.75\n",
            "4   Fixo                  0.00      Residencial                     0.00\n",
            "5   Fixo                  0.00      Corporativo                     0.75\n",
            "6  Móvel                  0.75      Corporativo                     0.75\n",
            "7  Móvel                  0.75      Residencial                     0.00\n"
          ]
        }
      ]
    }
  ]
}