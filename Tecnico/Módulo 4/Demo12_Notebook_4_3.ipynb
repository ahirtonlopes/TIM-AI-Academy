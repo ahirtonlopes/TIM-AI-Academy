{
  "nbformat": 4,
  "nbformat_minor": 0,
  "metadata": {
    "colab": {
      "provenance": []
    },
    "kernelspec": {
      "name": "python3",
      "display_name": "Python 3"
    },
    "language_info": {
      "name": "python"
    }
  },
  "cells": [
    {
      "cell_type": "markdown",
      "source": [
        "# TIM AI Academy\n",
        "\n",
        "## Demonstração 12 - A partir do dataset fictício, explanação a respeito de normalização de dados (data normalization).\n",
        "\n",
        "### Prof. Dr. Ahirton Lopes (https://github.com/ahirtonlopes)"
      ],
      "metadata": {
        "id": "hmCRw3ny8ScG"
      }
    },
    {
      "cell_type": "code",
      "execution_count": null,
      "metadata": {
        "id": "tJfAoVn35xfl"
      },
      "outputs": [],
      "source": [
        "# Importando as bibliotecas necessárias\n",
        "import numpy as np\n",
        "import pandas as pd\n",
        "from sklearn.preprocessing import MinMaxScaler, StandardScaler, RobustScaler\n",
        "import matplotlib.pyplot as plt"
      ]
    },
    {
      "cell_type": "markdown",
      "source": [
        "Temos um conjunto de dados com as seguintes colunas:\n",
        "\n",
        "customer_id: ID único do cliente.\n",
        "\n",
        "call_duration: Duração das chamadas em minutos (de 1 a 300).\n",
        "\n",
        "data_usage: Consumo de dados em GB (de 0.1 a 50).\n",
        "\n",
        "monthly_bill: Fatura mensal do cliente em reais (de  R$ 50  a  R$ 1500).\n",
        "\n",
        "calls_made: Número de chamadas feitas no mês."
      ],
      "metadata": {
        "id": "MFpnyT_h8wdG"
      }
    },
    {
      "cell_type": "code",
      "source": [
        "# Criando um DataFrame fictício de telecomunicações\n",
        "data = {\n",
        "    'customer_id': [1, 2, 3, 4, 5],\n",
        "    'call_duration': [120, 180, 90, 250, 200],  # em minutos\n",
        "    'data_usage': [5.0, 30.0, 10.5, 50.0, 25.0],  # em GB\n",
        "    'monthly_bill': [100, 600, 200, 1200, 800],  # em R$\n",
        "    'calls_made': [50, 100, 30, 150, 80]  # número de chamadas\n",
        "}\n",
        "\n",
        "df = pd.DataFrame(data)\n",
        "print(\"Dados originais:\")\n",
        "print(df)"
      ],
      "metadata": {
        "colab": {
          "base_uri": "https://localhost:8080/"
        },
        "id": "helid1SV52hZ",
        "outputId": "7cf79c80-8192-4949-e775-6601173ba8c6"
      },
      "execution_count": null,
      "outputs": [
        {
          "output_type": "stream",
          "name": "stdout",
          "text": [
            "Dados originais:\n",
            "   customer_id  call_duration  data_usage  monthly_bill  calls_made\n",
            "0            1            120         5.0           100          50\n",
            "1            2            180        30.0           600         100\n",
            "2            3             90        10.5           200          30\n",
            "3            4            250        50.0          1200         150\n",
            "4            5            200        25.0           800          80\n"
          ]
        }
      ]
    },
    {
      "cell_type": "markdown",
      "source": [
        "Min-Max Scaling: Transforma os dados para que eles fiquem entre 0 e 1. Isso é útil para algoritmos como redes neurais, que são sensíveis à escala dos dados.\n",
        "\n",
        "Standardization (Z-Score): Transformação dos dados para que eles tenham média 0 e desvio padrão 1. Ideal para algoritmos que assumem distribuição normal, como regressão linear e SVM.\n",
        "\n",
        "Robust Scaling: Usa a mediana e o intervalo interquartil para reduzir o impacto de outliers. Isso é importante quando se trabalha com dados que possuem valores extremos (outliers), como pode ser o caso de faturas mensais muito altas ou baixos consumos de dados."
      ],
      "metadata": {
        "id": "9a75G5cr8CXU"
      }
    },
    {
      "cell_type": "code",
      "source": [
        "# Normalização Min-Max\n",
        "min_max_scaler = MinMaxScaler()\n",
        "df_min_max = df.copy()\n",
        "df_min_max[['call_duration', 'data_usage', 'monthly_bill', 'calls_made']] = min_max_scaler.fit_transform(df[['call_duration', 'data_usage', 'monthly_bill', 'calls_made']])\n",
        "\n",
        "# Padronização (Z-Score)\n",
        "standard_scaler = StandardScaler()\n",
        "df_standard = df.copy()\n",
        "df_standard[['call_duration', 'data_usage', 'monthly_bill', 'calls_made']] = standard_scaler.fit_transform(df[['call_duration', 'data_usage', 'monthly_bill', 'calls_made']])\n",
        "\n",
        "# Normalização Robusta\n",
        "robust_scaler = RobustScaler()\n",
        "df_robust = df.copy()\n",
        "df_robust[['call_duration', 'data_usage', 'monthly_bill', 'calls_made']] = robust_scaler.fit_transform(df[['call_duration', 'data_usage', 'monthly_bill', 'calls_made']])"
      ],
      "metadata": {
        "id": "nxgkTSRD552P"
      },
      "execution_count": null,
      "outputs": []
    },
    {
      "cell_type": "markdown",
      "source": [
        "Min-Max Scaling: A coluna monthly_bill pode ter valores entre 0 e 1, representando a proporção de cada valor em relação ao intervalo máximo.\n",
        "\n",
        "Padronização (Z-Score): As colunas terão média 0 e desvio padrão 1. Os valores em torno de 0 representam a média, e valores positivos ou negativos indicam desvio em relação à média.\n",
        "\n",
        "Normalização Robusta: A coluna monthly_bill pode ser reduzida ou ampliada dependendo da presença de outliers, mas a mediana e o IQR serão preservados, tornando o modelo mais resistente a dados extremos."
      ],
      "metadata": {
        "id": "oGgs6Ya38JEm"
      }
    },
    {
      "cell_type": "code",
      "source": [
        "# Exibindo os resultados\n",
        "print(\"\\nNormalização Min-Max:\")\n",
        "print(df_min_max)\n",
        "\n",
        "print(\"\\nPadronização (Z-Score):\")\n",
        "print(df_standard)\n",
        "\n",
        "print(\"\\nNormalização Robusta:\")\n",
        "print(df_robust)"
      ],
      "metadata": {
        "colab": {
          "base_uri": "https://localhost:8080/"
        },
        "id": "Ol1SgobB7uj6",
        "outputId": "b3c8e238-fbec-48de-a63b-0402d673f8b0"
      },
      "execution_count": null,
      "outputs": [
        {
          "output_type": "stream",
          "name": "stdout",
          "text": [
            "\n",
            "Normalização Min-Max:\n",
            "   customer_id  call_duration  data_usage  monthly_bill  calls_made\n",
            "0            1         0.1875    0.000000      0.000000    0.166667\n",
            "1            2         0.5625    0.555556      0.454545    0.583333\n",
            "2            3         0.0000    0.122222      0.090909    0.000000\n",
            "3            4         1.0000    1.000000      1.000000    1.000000\n",
            "4            5         0.6875    0.444444      0.636364    0.416667\n",
            "\n",
            "Padronização (Z-Score):\n",
            "   customer_id  call_duration  data_usage  monthly_bill  calls_made\n",
            "0            1      -0.841200   -1.205005     -1.194045   -0.768025\n",
            "1            2       0.210300    0.372227      0.049752    0.432014\n",
            "2            3      -1.366949   -0.858014     -0.945285   -1.248040\n",
            "3            4       1.437049    1.634012      1.542308    1.632052\n",
            "4            5       0.560800    0.056780      0.547270   -0.048002\n",
            "\n",
            "Normalização Robusta:\n",
            "   customer_id  call_duration  data_usage  monthly_bill  calls_made\n",
            "0            1         -0.750   -1.025641     -0.833333        -0.6\n",
            "1            2          0.000    0.256410      0.000000         0.4\n",
            "2            3         -1.125   -0.743590     -0.666667        -1.0\n",
            "3            4          0.875    1.282051      1.000000         1.4\n",
            "4            5          0.250    0.000000      0.333333         0.0\n"
          ]
        }
      ]
    },
    {
      "cell_type": "code",
      "source": [
        "# Convertendo para DataFrame para visualização\n",
        "df_min_max = pd.DataFrame(df_min_max, columns=df.columns)\n",
        "df_standard = pd.DataFrame(df_standard, columns=df.columns)\n",
        "df_robust = pd.DataFrame(df_robust, columns=df.columns)\n",
        "\n",
        "# Exibindo os resultados\n",
        "print(\"Original Data:\")\n",
        "print(df)\n",
        "print(\"\\nMin-Max Normalization:\")\n",
        "print(df_min_max)\n",
        "print(\"\\nStandardization (Z-Score):\")\n",
        "print(df_standard)\n",
        "print(\"\\nRobust Scaling:\")\n",
        "print(df_robust)"
      ],
      "metadata": {
        "colab": {
          "base_uri": "https://localhost:8080/"
        },
        "id": "vF4pLH8S5-2E",
        "outputId": "c2f839e0-938c-482a-86ca-d08fb66f9c69"
      },
      "execution_count": null,
      "outputs": [
        {
          "output_type": "stream",
          "name": "stdout",
          "text": [
            "Original Data:\n",
            "   customer_id  call_duration  data_usage  monthly_bill  calls_made\n",
            "0            1            120         5.0           100          50\n",
            "1            2            180        30.0           600         100\n",
            "2            3             90        10.5           200          30\n",
            "3            4            250        50.0          1200         150\n",
            "4            5            200        25.0           800          80\n",
            "\n",
            "Min-Max Normalization:\n",
            "   customer_id  call_duration  data_usage  monthly_bill  calls_made\n",
            "0            1         0.1875    0.000000      0.000000    0.166667\n",
            "1            2         0.5625    0.555556      0.454545    0.583333\n",
            "2            3         0.0000    0.122222      0.090909    0.000000\n",
            "3            4         1.0000    1.000000      1.000000    1.000000\n",
            "4            5         0.6875    0.444444      0.636364    0.416667\n",
            "\n",
            "Standardization (Z-Score):\n",
            "   customer_id  call_duration  data_usage  monthly_bill  calls_made\n",
            "0            1      -0.841200   -1.205005     -1.194045   -0.768025\n",
            "1            2       0.210300    0.372227      0.049752    0.432014\n",
            "2            3      -1.366949   -0.858014     -0.945285   -1.248040\n",
            "3            4       1.437049    1.634012      1.542308    1.632052\n",
            "4            5       0.560800    0.056780      0.547270   -0.048002\n",
            "\n",
            "Robust Scaling:\n",
            "   customer_id  call_duration  data_usage  monthly_bill  calls_made\n",
            "0            1         -0.750   -1.025641     -0.833333        -0.6\n",
            "1            2          0.000    0.256410      0.000000         0.4\n",
            "2            3         -1.125   -0.743590     -0.666667        -1.0\n",
            "3            4          0.875    1.282051      1.000000         1.4\n",
            "4            5          0.250    0.000000      0.333333         0.0\n"
          ]
        }
      ]
    },
    {
      "cell_type": "code",
      "source": [
        "# Plotando os resultados para visualização\n",
        "fig, axes = plt.subplots(1, 4, figsize=(20, 5))\n",
        "\n",
        "# Gráficos para comparação\n",
        "axes[0].boxplot(df['monthly_bill'], vert=False)\n",
        "axes[0].set_title('Original Data - faturamento')\n",
        "\n",
        "axes[1].boxplot(df_min_max['monthly_bill'], vert=False)\n",
        "axes[1].set_title('Min-Max Scaling - faturamento')\n",
        "\n",
        "axes[2].boxplot(df_standard['monthly_bill'], vert=False)\n",
        "axes[2].set_title('Standardization - faturamento')\n",
        "\n",
        "axes[3].boxplot(df_robust['monthly_bill'], vert=False)\n",
        "axes[3].set_title('Robust Scaling - faturamento')\n",
        "\n",
        "plt.tight_layout()\n",
        "plt.show()"
      ],
      "metadata": {
        "colab": {
          "base_uri": "https://localhost:8080/",
          "height": 284
        },
        "id": "0efHm65G57Q5",
        "outputId": "271cdd7d-bcc2-41dd-9c37-9d860200a79c"
      },
      "execution_count": null,
      "outputs": [
        {
          "output_type": "display_data",
          "data": {
            "text/plain": [
              "<Figure size 2000x500 with 4 Axes>"
            ],
            "image/png": "[encoded data removed]"
          },
          "metadata": {}
        }
      ]
    },
    {
      "cell_type": "markdown",
      "source": [
        "Este exemplo mostra como atributos no mundo das telecomunicações, como duração de chamadas, uso de dados, fatura mensal e número de chamadas feitas, podem ser normalizados para otimizar a performance de modelos de aprendizado de máquina, dependendo das características do conjunto de dados (como a presença de outliers)."
      ],
      "metadata": {
        "id": "MzbBnliu8NgZ"
      }
    }
  ]
}