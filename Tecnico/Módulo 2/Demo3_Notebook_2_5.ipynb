{
  "nbformat": 4,
  "nbformat_minor": 0,
  "metadata": {
    "colab": {
      "provenance": []
    },
    "kernelspec": {
      "name": "python3",
      "display_name": "Python 3"
    },
    "language_info": {
      "name": "python"
    }
  },
  "cells": [
    {
      "cell_type": "markdown",
      "source": [
        "#TIM AI Academy\n",
        "\n",
        "## Demonstração 3 - Usando Pandas em uma Empresa de Telecomunicações\n",
        "\n",
        "Objetivo: Demonstrar as principais operações do Pandas ao manipular dados referntes a clientes de uma empresa de telecomunicações, como adição, agrupamento, busca e ordenação em dataframes.\n",
        "\n",
        "### Prof. Dr. Ahirton Lopes (https://github.com/ahirtonlopes)"
      ],
      "metadata": {
        "id": "ky5FckbdKQAm"
      }
    },
    {
      "cell_type": "code",
      "execution_count": 1,
      "metadata": {
        "colab": {
          "base_uri": "https://localhost:8080/"
        },
        "id": "dRNvmydbKNeo",
        "outputId": "2e50e0f7-dd4f-4378-a928-95f1eb62d8e0"
      },
      "outputs": [
        {
          "output_type": "stream",
          "name": "stdout",
          "text": [
            "DataFrame Original:\n",
            "   Cliente_ID    Nome     Plano  Minutos_usados  Internet_GB  Fatura\n",
            "0         101     Ana  Pré-pago             300          1.5      50\n",
            "1         102   Bruno  Pós-pago            1500         10.0     200\n",
            "2         103  Carlos  Pós-pago             800          5.0     150\n",
            "3         104   Diana  Pré-pago             100          0.2      30\n",
            "4         105   Elisa  Pós-pago            1200          8.0     180\n"
          ]
        }
      ],
      "source": [
        "# Importando a biblioteca Pandas\n",
        "import pandas as pd\n",
        "\n",
        "# Criando um DataFrame com dados fictícios de clientes de uma empresa de telecom\n",
        "data = {\n",
        "    'Cliente_ID': [101, 102, 103, 104, 105],\n",
        "    'Nome': ['Ana', 'Bruno', 'Carlos', 'Diana', 'Elisa'],\n",
        "    'Plano': ['Pré-pago', 'Pós-pago', 'Pós-pago', 'Pré-pago', 'Pós-pago'],\n",
        "    'Minutos_usados': [300, 1500, 800, 100, 1200],\n",
        "    'Internet_GB': [1.5, 10, 5, 0.2, 8],\n",
        "    'Fatura': [50, 200, 150, 30, 180]\n",
        "}\n",
        "\n",
        "df = pd.DataFrame(data)\n",
        "\n",
        "# Exibindo o DataFrame original\n",
        "print(\"DataFrame Original:\")\n",
        "print(df)"
      ]
    },
    {
      "cell_type": "code",
      "source": [
        "\n",
        "# Principais Operações\n",
        "\n",
        "# 1. Filtrando clientes com plano Pós-pago e fatura acima de R$ 150\n",
        "clientes_pospago = df[(df['Plano'] == 'Pós-pago') & (df['Fatura'] > 150)]\n",
        "print(\"\\nClientes com plano Pós-pago e fatura maior que R$ 150:\")\n",
        "print(clientes_pospago)"
      ],
      "metadata": {
        "colab": {
          "base_uri": "https://localhost:8080/"
        },
        "id": "aAtobIglKpMx",
        "outputId": "c2b2f3e2-2074-411c-d70a-5a3562706206"
      },
      "execution_count": 2,
      "outputs": [
        {
          "output_type": "stream",
          "name": "stdout",
          "text": [
            "\n",
            "Clientes com plano Pós-pago e fatura maior que R$ 150:\n",
            "   Cliente_ID   Nome     Plano  Minutos_usados  Internet_GB  Fatura\n",
            "1         102  Bruno  Pós-pago            1500         10.0     200\n",
            "4         105  Elisa  Pós-pago            1200          8.0     180\n"
          ]
        }
      ]
    },
    {
      "cell_type": "code",
      "source": [
        "# 2. Selecionando colunas específicas (Ex: Nome e Fatura)\n",
        "print(\"\\nSelecionando colunas 'Nome' e 'Fatura':\")\n",
        "print(df[['Nome', 'Fatura']])"
      ],
      "metadata": {
        "colab": {
          "base_uri": "https://localhost:8080/"
        },
        "id": "d-IVyDC8KrJL",
        "outputId": "bc17dc1b-82f2-4213-eb03-1a3c84c61244"
      },
      "execution_count": 3,
      "outputs": [
        {
          "output_type": "stream",
          "name": "stdout",
          "text": [
            "\n",
            "Selecionando colunas 'Nome' e 'Fatura':\n",
            "     Nome  Fatura\n",
            "0     Ana      50\n",
            "1   Bruno     200\n",
            "2  Carlos     150\n",
            "3   Diana      30\n",
            "4   Elisa     180\n"
          ]
        }
      ]
    },
    {
      "cell_type": "code",
      "source": [
        "# 3. Adicionando uma nova coluna (Ex: Custo por GB de internet)\n",
        "df['Custo_por_GB'] = df['Fatura'] / df['Internet_GB']\n",
        "print(\"\\nAdicionando coluna 'Custo_por_GB':\")\n",
        "print(df)"
      ],
      "metadata": {
        "colab": {
          "base_uri": "https://localhost:8080/"
        },
        "id": "8MpWwL53KshH",
        "outputId": "bb9f9ebc-ac5b-42fb-a1c8-a49ed628826e"
      },
      "execution_count": 4,
      "outputs": [
        {
          "output_type": "stream",
          "name": "stdout",
          "text": [
            "\n",
            "Adicionando coluna 'Custo_por_GB':\n",
            "   Cliente_ID    Nome     Plano  Minutos_usados  Internet_GB  Fatura  \\\n",
            "0         101     Ana  Pré-pago             300          1.5      50   \n",
            "1         102   Bruno  Pós-pago            1500         10.0     200   \n",
            "2         103  Carlos  Pós-pago             800          5.0     150   \n",
            "3         104   Diana  Pré-pago             100          0.2      30   \n",
            "4         105   Elisa  Pós-pago            1200          8.0     180   \n",
            "\n",
            "   Custo_por_GB  \n",
            "0     33.333333  \n",
            "1     20.000000  \n",
            "2     30.000000  \n",
            "3    150.000000  \n",
            "4     22.500000  \n"
          ]
        }
      ]
    },
    {
      "cell_type": "code",
      "source": [
        "# 4. Agrupando dados por plano e calculando a média de minutos usados\n",
        "media_minutos_por_plano = df.groupby('Plano')['Minutos_usados'].mean()\n",
        "print(\"\\nMédia de minutos usados por plano:\")\n",
        "print(media_minutos_por_plano)"
      ],
      "metadata": {
        "colab": {
          "base_uri": "https://localhost:8080/"
        },
        "id": "rEKX_R-wKt4_",
        "outputId": "a76c64b5-1c48-4176-a76d-a7c9619e2bed"
      },
      "execution_count": 5,
      "outputs": [
        {
          "output_type": "stream",
          "name": "stdout",
          "text": [
            "\n",
            "Média de minutos usados por plano:\n",
            "Plano\n",
            "Pré-pago     200.000000\n",
            "Pós-pago    1166.666667\n",
            "Name: Minutos_usados, dtype: float64\n"
          ]
        }
      ]
    },
    {
      "cell_type": "code",
      "source": [
        "\n",
        "# 5. Detectando clientes com uso de internet acima de 5GB (detecção de padrões/anomalias)\n",
        "clientes_internet_alta = df[df['Internet_GB'] > 5]\n",
        "print(\"\\nClientes com uso de internet acima de 5GB:\")\n",
        "print(clientes_internet_alta)"
      ],
      "metadata": {
        "colab": {
          "base_uri": "https://localhost:8080/"
        },
        "id": "pKBz6J8sKvL2",
        "outputId": "f2669b71-5110-42b4-a263-ddb9967b9720"
      },
      "execution_count": 6,
      "outputs": [
        {
          "output_type": "stream",
          "name": "stdout",
          "text": [
            "\n",
            "Clientes com uso de internet acima de 5GB:\n",
            "   Cliente_ID   Nome     Plano  Minutos_usados  Internet_GB  Fatura  \\\n",
            "1         102  Bruno  Pós-pago            1500         10.0     200   \n",
            "4         105  Elisa  Pós-pago            1200          8.0     180   \n",
            "\n",
            "   Custo_por_GB  \n",
            "1          20.0  \n",
            "4          22.5  \n"
          ]
        }
      ]
    },
    {
      "cell_type": "code",
      "source": [
        "# 6. Ordenando os clientes pela fatura, do maior para o menor valor\n",
        "df_sorted = df.sort_values(by='Fatura', ascending=False)\n",
        "print(\"\\nClientes ordenados pela fatura (maior para menor):\")\n",
        "print(df_sorted)"
      ],
      "metadata": {
        "colab": {
          "base_uri": "https://localhost:8080/"
        },
        "id": "PqaRM4T2KxYJ",
        "outputId": "fbc51b6d-8562-4046-8bc0-34b110740035"
      },
      "execution_count": 7,
      "outputs": [
        {
          "output_type": "stream",
          "name": "stdout",
          "text": [
            "\n",
            "Clientes ordenados pela fatura (maior para menor):\n",
            "   Cliente_ID    Nome     Plano  Minutos_usados  Internet_GB  Fatura  \\\n",
            "1         102   Bruno  Pós-pago            1500         10.0     200   \n",
            "4         105   Elisa  Pós-pago            1200          8.0     180   \n",
            "2         103  Carlos  Pós-pago             800          5.0     150   \n",
            "0         101     Ana  Pré-pago             300          1.5      50   \n",
            "3         104   Diana  Pré-pago             100          0.2      30   \n",
            "\n",
            "   Custo_por_GB  \n",
            "1     20.000000  \n",
            "4     22.500000  \n",
            "2     30.000000  \n",
            "0     33.333333  \n",
            "3    150.000000  \n"
          ]
        }
      ]
    }
  ]
}