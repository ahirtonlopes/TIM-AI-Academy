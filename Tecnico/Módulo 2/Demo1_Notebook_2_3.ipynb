{
  "nbformat": 4,
  "nbformat_minor": 0,
  "metadata": {
    "colab": {
      "provenance": []
    },
    "kernelspec": {
      "name": "python3",
      "display_name": "Python 3"
    },
    "language_info": {
      "name": "python"
    }
  },
  "cells": [
    {
      "cell_type": "markdown",
      "source": [
        "#TIM AI Academy\n",
        "\n",
        "## Demonstração 1 - Dataset para uma Empresa de Telecomunicações\n",
        "\n",
        "Objetivo: Criar um dataset de clientes com informações sobre planos, tempo de permanência, e status de pagamento, e realizar operações básicas de manipulação de dados.\n",
        "\n",
        "### Prof. Dr. Ahirton Lopes (https://github.com/ahirtonlopes)"
      ],
      "metadata": {
        "id": "0t9Uc0WyBlrU"
      }
    },
    {
      "cell_type": "code",
      "execution_count": 10,
      "metadata": {
        "colab": {
          "base_uri": "https://localhost:8080/"
        },
        "id": "o-6DuB2iBZA0",
        "outputId": "db69659c-ed4a-4974-bb97-66bf847de927"
      },
      "outputs": [
        {
          "output_type": "stream",
          "name": "stdout",
          "text": [
            "   Cliente_ID    Nome     Plano Data_Cadastro Status_Pagamento\n",
            "0           1   Alice  Pré-pago    2022-01-15           Em dia\n",
            "1           2     Bob  Pós-pago    2022-02-20         Atrasado\n",
            "2           3  Carlos  Pós-pago    2021-12-05           Em dia\n",
            "3           4   Diana  Pré-pago    2023-03-10           Em dia\n",
            "4           5     Eva  Pós-pago    2022-05-25         Atrasado\n"
          ]
        }
      ],
      "source": [
        "import pandas as pd\n",
        "\n",
        "# Criação de um dicionário com dados fictícios\n",
        "data = {\n",
        "    'Cliente_ID': [1, 2, 3, 4, 5],\n",
        "    'Nome': ['Alice', 'Bob', 'Carlos', 'Diana', 'Eva'],\n",
        "    'Plano': ['Pré-pago', 'Pós-pago', 'Pós-pago', 'Pré-pago', 'Pós-pago'],\n",
        "    'Data_Cadastro': ['2022-01-15', '2022-02-20', '2021-12-05', '2023-03-10', '2022-05-25'],\n",
        "    'Status_Pagamento': ['Em dia', 'Atrasado', 'Em dia', 'Em dia', 'Atrasado']\n",
        "}\n",
        "\n",
        "# Criação do DataFrame\n",
        "clientes_df = pd.DataFrame(data)\n",
        "\n",
        "# Visualizando o DataFrame\n",
        "print(clientes_df)"
      ]
    },
    {
      "cell_type": "code",
      "source": [
        "# Convertendo a coluna Data_Cadastro para o tipo datetime\n",
        "clientes_df['Data_Cadastro'] = pd.to_datetime(clientes_df['Data_Cadastro'])\n",
        "\n",
        "# Adicionando uma nova coluna para o tempo de permanência em meses\n",
        "clientes_df['Tempo_Permanencia'] = (pd.Timestamp.now() - clientes_df['Data_Cadastro']).dt.days // 30\n",
        "\n",
        "# Visualizando o DataFrame atualizado\n",
        "print(clientes_df)"
      ],
      "metadata": {
        "colab": {
          "base_uri": "https://localhost:8080/"
        },
        "id": "n5hC49V8Bbzh",
        "outputId": "77ba8ec8-a1f3-48e3-9986-28180373fc50"
      },
      "execution_count": 11,
      "outputs": [
        {
          "output_type": "stream",
          "name": "stdout",
          "text": [
            "   Cliente_ID    Nome     Plano Data_Cadastro Status_Pagamento  \\\n",
            "0           1   Alice  Pré-pago    2022-01-15           Em dia   \n",
            "1           2     Bob  Pós-pago    2022-02-20         Atrasado   \n",
            "2           3  Carlos  Pós-pago    2021-12-05           Em dia   \n",
            "3           4   Diana  Pré-pago    2023-03-10           Em dia   \n",
            "4           5     Eva  Pós-pago    2022-05-25         Atrasado   \n",
            "\n",
            "   Tempo_Permanencia  \n",
            "0                 32  \n",
            "1                 31  \n",
            "2                 34  \n",
            "3                 19  \n",
            "4                 28  \n"
          ]
        }
      ]
    },
    {
      "cell_type": "code",
      "source": [
        "import re\n",
        "\n",
        "# Função para verificar se o nome do cliente contém uma letra maiúscula\n",
        "def verificar_maiuscula(nome):\n",
        "    return bool(re.search(r'[A-Z]', nome))\n",
        "\n",
        "# Aplicando a função à coluna Nome\n",
        "clientes_df['Tem_Maiuscula'] = clientes_df['Nome'].apply(verificar_maiuscula)\n",
        "\n",
        "# Visualizando o DataFrame atualizado\n",
        "print(clientes_df)"
      ],
      "metadata": {
        "colab": {
          "base_uri": "https://localhost:8080/"
        },
        "id": "RqiXwhuoBel6",
        "outputId": "834db32c-b5a9-4e1b-b950-73b57f88ff73"
      },
      "execution_count": 12,
      "outputs": [
        {
          "output_type": "stream",
          "name": "stdout",
          "text": [
            "   Cliente_ID    Nome     Plano Data_Cadastro Status_Pagamento  \\\n",
            "0           1   Alice  Pré-pago    2022-01-15           Em dia   \n",
            "1           2     Bob  Pós-pago    2022-02-20         Atrasado   \n",
            "2           3  Carlos  Pós-pago    2021-12-05           Em dia   \n",
            "3           4   Diana  Pré-pago    2023-03-10           Em dia   \n",
            "4           5     Eva  Pós-pago    2022-05-25         Atrasado   \n",
            "\n",
            "   Tempo_Permanencia  Tem_Maiuscula  \n",
            "0                 32           True  \n",
            "1                 31           True  \n",
            "2                 34           True  \n",
            "3                 19           True  \n",
            "4                 28           True  \n"
          ]
        }
      ]
    },
    {
      "cell_type": "code",
      "source": [
        "# Função para atualizar o status de pagamento\n",
        "def atualizar_status(cliente_id, novo_status):\n",
        "    try:\n",
        "        if novo_status not in ['Em dia', 'Atrasado']:\n",
        "            raise ValueError(\"Status inválido. Deve ser 'Em dia' ou 'Atrasado'.\")\n",
        "        clientes_df.loc[clientes_df['Cliente_ID'] == cliente_id, 'Status_Pagamento'] = novo_status\n",
        "    except Exception as e:\n",
        "        print(f\"Erro: {e}\")\n",
        "\n",
        "# Atualizando o status de pagamento para o cliente 2\n",
        "atualizar_status(2, 'Em dia')\n",
        "print(clientes_df)"
      ],
      "metadata": {
        "colab": {
          "base_uri": "https://localhost:8080/"
        },
        "id": "oXoKd_FqBhWQ",
        "outputId": "4be1d3db-bf34-4651-8b09-cd20a76e93b8"
      },
      "execution_count": 13,
      "outputs": [
        {
          "output_type": "stream",
          "name": "stdout",
          "text": [
            "   Cliente_ID    Nome     Plano Data_Cadastro Status_Pagamento  \\\n",
            "0           1   Alice  Pré-pago    2022-01-15           Em dia   \n",
            "1           2     Bob  Pós-pago    2022-02-20           Em dia   \n",
            "2           3  Carlos  Pós-pago    2021-12-05           Em dia   \n",
            "3           4   Diana  Pré-pago    2023-03-10           Em dia   \n",
            "4           5     Eva  Pós-pago    2022-05-25         Atrasado   \n",
            "\n",
            "   Tempo_Permanencia  Tem_Maiuscula  \n",
            "0                 32           True  \n",
            "1                 31           True  \n",
            "2                 34           True  \n",
            "3                 19           True  \n",
            "4                 28           True  \n"
          ]
        }
      ]
    }
  ]
}