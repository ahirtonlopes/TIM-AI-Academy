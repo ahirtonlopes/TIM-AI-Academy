{
  "nbformat": 4,
  "nbformat_minor": 0,
  "metadata": {
    "colab": {
      "provenance": []
    },
    "kernelspec": {
      "name": "python3",
      "display_name": "Python 3"
    },
    "language_info": {
      "name": "python"
    }
  },
  "cells": [
    {
      "cell_type": "markdown",
      "source": [
        "#TIM AI Academy\n",
        "\n",
        "## Demonstração 5 - Demonstração comparativa de frameworks para Deep Learning (uma breve introdução)\n",
        "\n",
        "Objetivo: Mostrar exemplos de como você pode usar TensorFlow, Keras e PyTorch no contexto de uma empresa de telecomunicações, seguidos por um breve comparativo entre os frameworks.\n",
        "\n",
        "### Prof. Dr. Ahirton Lopes (https://github.com/ahirtonlopes)"
      ],
      "metadata": {
        "id": "5oaLJuvJRPyr"
      }
    },
    {
      "cell_type": "code",
      "execution_count": null,
      "metadata": {
        "id": "YEKjUC6FQ2O9"
      },
      "outputs": [],
      "source": [
        "1. TensorFlow\n",
        "Exemplo: Previsão de churn (cancelamento de clientes) usando uma rede neural.\n",
        "Descrição: Utilizando TensorFlow, você pode construir um modelo preditivo que analisa o comportamento dos clientes, como uso de dados, chamadas e feedback, para prever quais clientes estão em risco de cancelar seus serviços."
      ]
    },
    {
      "cell_type": "code",
      "source": [
        "import tensorflow as tf\n",
        "from tensorflow import keras\n",
        "\n",
        "model = keras.Sequential([\n",
        "    keras.layers.Dense(64, activation='relu', input_shape=(input_dim,)),\n",
        "    keras.layers.Dense(32, activation='relu'),\n",
        "    keras.layers.Dense(1, activation='sigmoid')\n",
        "])\n",
        "model.compile(optimizer='adam', loss='binary_crossentropy', metrics=['accuracy'])\n",
        "model.fit(X_train, y_train, epochs=10)"
      ],
      "metadata": {
        "id": "KDgDDrg5Q7C_"
      },
      "execution_count": null,
      "outputs": []
    },
    {
      "cell_type": "markdown",
      "source": [
        "2. Keras\n",
        "\n",
        "Exemplo: Classificação de mensagens SMS como spam ou não spam.\n",
        "\n",
        "Descrição: Keras, uma API de alto nível construída sobre TensorFlow, permite que você crie rapidamente um modelo de classificação de texto que analisa mensagens SMS dos clientes para detectar fraudes."
      ],
      "metadata": {
        "id": "eGtWLW_vQ8_p"
      }
    },
    {
      "cell_type": "code",
      "source": [
        "from keras.models import Sequential\n",
        "from keras.layers import Dense, Embedding, LSTM\n",
        "\n",
        "model = Sequential()\n",
        "model.add(Embedding(input_dim=vocab_size, output_dim=128))\n",
        "model.add(LSTM(128))\n",
        "model.add(Dense(1, activation='sigmoid'))\n",
        "model.compile(loss='binary_crossentropy', optimizer='adam', metrics=['accuracy'])\n",
        "model.fit(X_train, y_train, epochs=5)"
      ],
      "metadata": {
        "id": "xmEDacPFRDe3"
      },
      "execution_count": null,
      "outputs": []
    },
    {
      "cell_type": "markdown",
      "source": [
        "3. PyTorch\n",
        "\n",
        "Exemplo: Análise de sentimentos em feedbacks de clientes.\n",
        "\n",
        "Descrição: Usando PyTorch, você pode desenvolver um modelo de rede neural que classifica os feedbacks dos clientes como positivos, negativos ou neutros, ajudando a empresa a entender melhor a satisfação do cliente."
      ],
      "metadata": {
        "id": "WRk5kr5kRH08"
      }
    },
    {
      "cell_type": "code",
      "source": [
        "import torch\n",
        "import torch.nn as nn\n",
        "\n",
        "class SentimentModel(nn.Module):\n",
        "    def __init__(self):\n",
        "        super(SentimentModel, self).__init__()\n",
        "        self.embedding = nn.Embedding(vocab_size, embedding_dim)\n",
        "        self.lstm = nn.LSTM(embedding_dim, hidden_dim)\n",
        "        self.fc = nn.Linear(hidden_dim, 3)  # Para 3 classes de sentimento\n",
        "\n",
        "    def forward(self, x):\n",
        "        x = self.embedding(x)\n",
        "        x, _ = self.lstm(x)\n",
        "        x = self.fc(x[-1])\n",
        "        return x\n",
        "\n",
        "model = SentimentModel()"
      ],
      "metadata": {
        "id": "6F66QLupRMvE"
      },
      "execution_count": null,
      "outputs": []
    },
    {
      "cell_type": "markdown",
      "source": [
        "Comparativo entre TensorFlow, Keras e PyTorch\n",
        "\n",
        "TensorFlow:\n",
        "\n",
        "* Ponto Forte: Flexível para produção em larga escala, compatível com várias plataformas.\n",
        "Ponto Fraco: Curva de aprendizado mais íngreme.\n",
        "\n",
        "Keras:\n",
        "\n",
        "* Ponto Forte: API simples e intuitiva, ideal para protótipos rápidos.\n",
        "\n",
        "* Ponto Fraco: Menos controle sobre a arquitetura do modelo em comparação com TensorFlow puro.\n",
        "\n",
        "PyTorch:\n",
        "\n",
        "* Ponto Forte: Excelente para pesquisa e desenvolvimento, fácil de depurar.\n",
        "\n",
        "* Ponto Fraco: Menos otimizado para produção em larga escala em comparação com TensorFlow."
      ],
      "metadata": {
        "id": "Cjmcv3N_RgnL"
      }
    }
  ]
}