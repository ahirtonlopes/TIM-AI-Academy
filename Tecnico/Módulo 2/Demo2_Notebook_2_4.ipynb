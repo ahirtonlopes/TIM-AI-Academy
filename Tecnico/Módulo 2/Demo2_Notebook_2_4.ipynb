{
  "nbformat": 4,
  "nbformat_minor": 0,
  "metadata": {
    "colab": {
      "provenance": []
    },
    "kernelspec": {
      "name": "python3",
      "display_name": "Python 3"
    },
    "language_info": {
      "name": "python"
    }
  },
  "cells": [
    {
      "cell_type": "markdown",
      "source": [
        "#TIM AI Academy\n",
        "\n",
        "## Demonstração 2 - Usando NumPy em uma Empresa de Telecomunicações\n",
        "\n",
        "Objetivo: Demonstrar as principais operações do NumPy ao analisar dados de clientes de uma empresa de telecomunicações, como consumo mensal e tempo de permanência.\n",
        "\n",
        "### Prof. Dr. Ahirton Lopes (https://github.com/ahirtonlopes)"
      ],
      "metadata": {
        "id": "hrL6yKPCGITN"
      }
    },
    {
      "cell_type": "code",
      "execution_count": 1,
      "metadata": {
        "colab": {
          "base_uri": "https://localhost:8080/"
        },
        "id": "HerTl_p5F1hK",
        "outputId": "f64ddc56-3a2c-48e9-b25e-2da51a5f86d5"
      },
      "outputs": [
        {
          "output_type": "stream",
          "name": "stdout",
          "text": [
            "Consumo Mensal: [100.5  200.75 150.2  300.   250.3 ]\n",
            "Tempo de Permanência: [12 24 18  6 30]\n"
          ]
        }
      ],
      "source": [
        "import numpy as np\n",
        "\n",
        "# Dados de consumo mensal em reais para 5 clientes\n",
        "consumo_mensal = np.array([100.50, 200.75, 150.20, 300.00, 250.30])\n",
        "\n",
        "# Dados de tempo de permanência em meses para os mesmos clientes\n",
        "tempo_permanencia = np.array([12, 24, 18, 6, 30])\n",
        "\n",
        "# Visualizando os arrays\n",
        "print(\"Consumo Mensal:\", consumo_mensal)\n",
        "print(\"Tempo de Permanência:\", tempo_permanencia)\n"
      ]
    },
    {
      "cell_type": "code",
      "source": [
        "# Cálculo do consumo médio\n",
        "media_consumo = np.mean(consumo_mensal)\n",
        "print(\"Consumo Médio:\", media_consumo)\n",
        "\n",
        "# Cálculo do total de consumo\n",
        "total_consumo = np.sum(consumo_mensal)\n",
        "print(\"Total de Consumo:\", total_consumo)\n",
        "\n",
        "# Cálculo do tempo de permanência médio\n",
        "media_tempo = np.mean(tempo_permanencia)\n",
        "print(\"Tempo de Permanência Médio:\", media_tempo)"
      ],
      "metadata": {
        "colab": {
          "base_uri": "https://localhost:8080/"
        },
        "id": "g2j50FFOF5w8",
        "outputId": "fc1cb2f4-0715-464a-8ffb-bc322546ea49"
      },
      "execution_count": 2,
      "outputs": [
        {
          "output_type": "stream",
          "name": "stdout",
          "text": [
            "Consumo Médio: 200.35\n",
            "Total de Consumo: 1001.75\n",
            "Tempo de Permanência Médio: 18.0\n"
          ]
        }
      ]
    },
    {
      "cell_type": "code",
      "source": [
        "# Filtrando clientes que consomem mais de R$ 200,00 por mês\n",
        "clientes_alto_consumo = consumo_mensal[consumo_mensal > 200]\n",
        "print(\"Clientes com Alto Consumo Mensal:\", clientes_alto_consumo)"
      ],
      "metadata": {
        "colab": {
          "base_uri": "https://localhost:8080/"
        },
        "id": "GmxvYpsMF-0P",
        "outputId": "1a9186cc-8da5-4d38-e635-ba7fff21ef3e"
      },
      "execution_count": 3,
      "outputs": [
        {
          "output_type": "stream",
          "name": "stdout",
          "text": [
            "Clientes com Alto Consumo Mensal: [200.75 300.   250.3 ]\n"
          ]
        }
      ]
    },
    {
      "cell_type": "code",
      "source": [
        "# Cálculo do consumo mensal ajustado (aplicando um aumento de 10%)\n",
        "aumento_percentual = 0.10\n",
        "consumo_ajustado = consumo_mensal * (1 + aumento_percentual)\n",
        "print(\"Consumo Mensal Ajustado:\", consumo_ajustado)\n",
        "\n",
        "# Cálculo da relação entre consumo e tempo de permanência\n",
        "relacao_consumo_tempo = consumo_mensal / tempo_permanencia\n",
        "print(\"Relação Consumo/Tema de Permanência:\", relacao_consumo_tempo)"
      ],
      "metadata": {
        "colab": {
          "base_uri": "https://localhost:8080/"
        },
        "id": "LZMJEjGHGA_R",
        "outputId": "ce94f093-a303-487e-b460-80f044f7e2d8"
      },
      "execution_count": 4,
      "outputs": [
        {
          "output_type": "stream",
          "name": "stdout",
          "text": [
            "Consumo Mensal Ajustado: [110.55  220.825 165.22  330.    275.33 ]\n",
            "Relação Consumo/Tema de Permanência: [ 8.375       8.36458333  8.34444444 50.          8.34333333]\n"
          ]
        }
      ]
    }
  ]
}