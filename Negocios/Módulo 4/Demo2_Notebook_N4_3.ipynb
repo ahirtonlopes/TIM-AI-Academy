{
  "nbformat": 4,
  "nbformat_minor": 0,
  "metadata": {
    "colab": {
      "provenance": []
    },
    "kernelspec": {
      "name": "python3",
      "display_name": "Python 3"
    },
    "language_info": {
      "name": "python"
    }
  },
  "cells": [
    {
      "cell_type": "markdown",
      "source": [
        "#TIM AI Academy\n",
        "\n",
        "## Demonstração N2 - A partir de datasets fictícios, explanação a respeito da verificação da qualidade de dados, segurança e privacidade, rastreabilidade e documentação.\n",
        "\n",
        "### Prof. Dr. Ahirton Lopes (https://github.com/ahirtonlopes)"
      ],
      "metadata": {
        "id": "bLT3FUDuwVo1"
      }
    },
    {
      "cell_type": "markdown",
      "source": [
        "# 1. Anonimização de Dados com Pseudonimização\n",
        "\n",
        "Neste exemplo, usaremos uma técnica de pseudonimização, que substitui dados identificáveis por pseudônimos, mantendo a utilidade dos dados para análise, mas reduzindo o risco de identificação de indivíduos."
      ],
      "metadata": {
        "id": "WjcOdKV_wdeO"
      }
    },
    {
      "cell_type": "code",
      "execution_count": 3,
      "metadata": {
        "colab": {
          "base_uri": "https://localhost:8080/"
        },
        "id": "-1slHi5ZwUIy",
        "outputId": "6411047a-3e6e-4ff9-c145-7ef82406aa15"
      },
      "outputs": [
        {
          "output_type": "stream",
          "name": "stdout",
          "text": [
            "Dados Originais:\n",
            "      Nome                Email  Idade\n",
            "0    Alice    alice@example.com     25\n",
            "1      Bob      bob@example.com     30\n",
            "2  Charlie  charlie@example.com     35\n",
            "\n",
            "Dados Pseudonimizados:\n",
            "                        Nome                  Email  Idade\n",
            "0   User_9141758061224313528  usere.com@example.com     25\n",
            "1  User_-7405335073746501944  usere.com@example.com     30\n",
            "2   User_2385428207780303392  usere.com@example.com     35\n"
          ]
        }
      ],
      "source": [
        "import pandas as pd\n",
        "\n",
        "# Criando um DataFrame de exemplo com dados pessoais\n",
        "data = {\n",
        "    'Nome': ['Alice', 'Bob', 'Charlie'],\n",
        "    'Email': ['alice@example.com', 'bob@example.com', 'charlie@example.com'],\n",
        "    'Idade': [25, 30, 35]\n",
        "}\n",
        "\n",
        "df = pd.DataFrame(data)\n",
        "\n",
        "# Exibindo os dados originais\n",
        "print(\"Dados Originais:\")\n",
        "print(df)\n",
        "\n",
        "# Função para pseudonimização\n",
        "def pseudonimizar(df):\n",
        "    df['Nome'] = df['Nome'].apply(lambda x: f'User_{hash(x)}')  # Substitui o nome por um hash\n",
        "    df['Email'] = df['Email'].apply(lambda x: f'user{x[-5:]}@example.com')  # Mantém o domínio, mas muda a parte local\n",
        "    return df\n",
        "\n",
        "# Aplicando a pseudonimização\n",
        "df_pseudonimizado = pseudonimizar(df)\n",
        "\n",
        "# Exibindo os dados pseudonimizados\n",
        "print(\"\\nDados Pseudonimizados:\")\n",
        "print(df_pseudonimizado)"
      ]
    },
    {
      "cell_type": "markdown",
      "source": [
        "# 2. Mascaramento de Dados\n",
        "\n",
        "Neste exemplo, aplicamos uma técnica de mascaramento, onde ocultamos parcialmente os dados sensíveis, como os endereços de e-mail."
      ],
      "metadata": {
        "id": "E78T3QflwqGP"
      }
    },
    {
      "cell_type": "code",
      "source": [
        "# Criando um DataFrame com dados pessoais\n",
        "data = {\n",
        "    'Nome': ['Alice', 'Bob', 'Charlie'],\n",
        "    'Email': ['alice@example.com', 'bob@example.com', 'charlie@example.com']\n",
        "}\n",
        "\n",
        "df = pd.DataFrame(data)\n",
        "\n",
        "# Exibindo os dados originais\n",
        "print(\"Dados Originais:\")\n",
        "print(df)\n",
        "\n",
        "# Função para mascaramento de dados\n",
        "def mascarar_email(email):\n",
        "    usuario, dominio = email.split('@')\n",
        "    usuario_mascarado = usuario[:2] + '*' * (len(usuario) - 2)  # Mantém os dois primeiros caracteres visíveis\n",
        "    return f'{usuario_mascarado}@{dominio}'\n",
        "\n",
        "# Aplicando o mascaramento de dados\n",
        "df['Email'] = df['Email'].apply(mascarar_email)\n",
        "\n",
        "# Exibindo os dados mascarados\n",
        "print(\"\\nDados Mascarados:\")\n",
        "print(df)"
      ],
      "metadata": {
        "colab": {
          "base_uri": "https://localhost:8080/"
        },
        "id": "qOXUCV4Bwtvg",
        "outputId": "b6e5653b-ec18-48fe-d683-05f982b02055"
      },
      "execution_count": 4,
      "outputs": [
        {
          "output_type": "stream",
          "name": "stdout",
          "text": [
            "Dados Originais:\n",
            "      Nome                Email\n",
            "0    Alice    alice@example.com\n",
            "1      Bob      bob@example.com\n",
            "2  Charlie  charlie@example.com\n",
            "\n",
            "Dados Mascarados:\n",
            "      Nome                Email\n",
            "0    Alice    al***@example.com\n",
            "1      Bob      bo*@example.com\n",
            "2  Charlie  ch*****@example.com\n"
          ]
        }
      ]
    },
    {
      "cell_type": "markdown",
      "source": [
        "# 3. Tokenização\n",
        "\n",
        "A tokenização substitui dados sensíveis por tokens que podem ser utilizados em lugar dos dados originais."
      ],
      "metadata": {
        "id": "Y1Jsjcfuw3vF"
      }
    },
    {
      "cell_type": "code",
      "source": [
        "import random\n",
        "import string\n",
        "\n",
        "# Função para gerar um token\n",
        "def gerar_token(tamanho=8):\n",
        "    return ''.join(random.choices(string.ascii_letters + string.digits, k=tamanho))\n",
        "\n",
        "# Criando um DataFrame com dados pessoais\n",
        "data = {\n",
        "    'Nome': ['Alice', 'Bob', 'Charlie'],\n",
        "    'Cartão': ['1234-5678-9876-5432', '2345-6789-8765-4321', '3456-7890-7654-3210']\n",
        "}\n",
        "\n",
        "df = pd.DataFrame(data)\n",
        "\n",
        "# Exibindo os dados originais\n",
        "print(\"Dados Originais:\")\n",
        "print(df)\n",
        "\n",
        "# Aplicando tokenização ao número do cartão\n",
        "df['Cartão Tokenizado'] = df['Cartão'].apply(lambda x: gerar_token(16))\n",
        "\n",
        "# Exibindo os dados com cartões tokenizados\n",
        "print(\"\\nDados com Cartões Tokenizados:\")\n",
        "print(df)"
      ],
      "metadata": {
        "colab": {
          "base_uri": "https://localhost:8080/"
        },
        "id": "HuqoY_oLw-nP",
        "outputId": "a7b1472c-95b2-4b8d-f2a7-5c18e2cd91b0"
      },
      "execution_count": 5,
      "outputs": [
        {
          "output_type": "stream",
          "name": "stdout",
          "text": [
            "Dados Originais:\n",
            "      Nome               Cartão\n",
            "0    Alice  1234-5678-9876-5432\n",
            "1      Bob  2345-6789-8765-4321\n",
            "2  Charlie  3456-7890-7654-3210\n",
            "\n",
            "Dados com Cartões Tokenizados:\n",
            "      Nome               Cartão Cartão Tokenizado\n",
            "0    Alice  1234-5678-9876-5432  jSnzP1Fe6RwkDTwY\n",
            "1      Bob  2345-6789-8765-4321  o6QtDPT0vWe89g8x\n",
            "2  Charlie  3456-7890-7654-3210  UdBbCwtvw8ckh3HJ\n"
          ]
        }
      ]
    }
  ]
}