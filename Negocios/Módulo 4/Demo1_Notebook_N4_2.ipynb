{
  "nbformat": 4,
  "nbformat_minor": 0,
  "metadata": {
    "colab": {
      "provenance": []
    },
    "kernelspec": {
      "name": "python3",
      "display_name": "Python 3"
    },
    "language_info": {
      "name": "python"
    }
  },
  "cells": [
    {
      "cell_type": "markdown",
      "source": [
        "#TIM AI Academy\n",
        "\n",
        "## Demonstração N1 - A partir de datasets fictícios, explanação a respeito da verificação da qualidade de dados, segurança e privacidade, rastreabilidade e documentação.\n",
        "\n",
        "### Prof. Dr. Ahirton Lopes (https://github.com/ahirtonlopes)"
      ],
      "metadata": {
        "id": "KzxZwHaurQm9"
      }
    },
    {
      "cell_type": "markdown",
      "source": [
        "# 1. Verificação da Qualidade dos Dados\n",
        "\n",
        "Vamos começar com uma função que verifica a qualidade dos dados, identificando valores ausentes e duplicatas em um DataFrame do Pandas."
      ],
      "metadata": {
        "id": "yhq2VOy7n5f4"
      }
    },
    {
      "cell_type": "code",
      "execution_count": 1,
      "metadata": {
        "colab": {
          "base_uri": "https://localhost:8080/"
        },
        "id": "dkT-PL_6m-A5",
        "outputId": "96c97afd-b20e-46e5-e3dc-bb13cad0a8fe"
      },
      "outputs": [
        {
          "output_type": "stream",
          "name": "stdout",
          "text": [
            "Verificação de Duplicatas:\n",
            "0 duplicatas encontradas\n",
            "\n",
            "Verificação de Valores Ausentes:\n",
            "id      1\n",
            "name    0\n",
            "age     1\n",
            "dtype: int64 valores ausentes em cada coluna\n",
            "\n",
            "DataFrame limpo:\n",
            "    id     name   age\n",
            "0  1.0    Alice  25.0\n",
            "1  2.0      Bob  30.0\n",
            "2  2.0      Bob  32.5\n",
            "3  3.0  Charlie  35.0\n",
            "4  2.0    David  40.0\n"
          ]
        },
        {
          "output_type": "stream",
          "name": "stderr",
          "text": [
            "<ipython-input-1-a0162fa7db67>:24: FutureWarning: A value is trying to be set on a copy of a DataFrame or Series through chained assignment using an inplace method.\n",
            "The behavior will change in pandas 3.0. This inplace method will never work because the intermediate object on which we are setting values always behaves as a copy.\n",
            "\n",
            "For example, when doing 'df[col].method(value, inplace=True)', try using 'df.method({col: value}, inplace=True)' or df[col] = df[col].method(value) instead, to perform the operation inplace on the original object.\n",
            "\n",
            "\n",
            "  df[column].fillna(df[column].mean(), inplace=True)  # Preenchendo valores ausentes com a média\n"
          ]
        }
      ],
      "source": [
        "import pandas as pd\n",
        "\n",
        "# Exemplo de DataFrame\n",
        "data = {\n",
        "    'id': [1, 2, 2, 3, None],\n",
        "    'name': ['Alice', 'Bob', 'Bob', 'Charlie', 'David'],\n",
        "    'age': [25, 30, None, 35, 40]\n",
        "}\n",
        "\n",
        "df = pd.DataFrame(data)\n",
        "\n",
        "def check_data_quality(df):\n",
        "    print(\"Verificação de Duplicatas:\")\n",
        "    print(df.duplicated().sum(), \"duplicatas encontradas\\n\")\n",
        "\n",
        "    print(\"Verificação de Valores Ausentes:\")\n",
        "    print(df.isnull().sum(), \"valores ausentes em cada coluna\\n\")\n",
        "\n",
        "    # Exemplos de ações corretivas\n",
        "    df.drop_duplicates(inplace=True)\n",
        "\n",
        "    # Preenchendo valores ausentes apenas nas colunas numéricas\n",
        "    for column in df.select_dtypes(include=['float64', 'int64']).columns:\n",
        "        df[column].fillna(df[column].mean(), inplace=True)  # Preenchendo valores ausentes com a média\n",
        "\n",
        "    return df\n",
        "\n",
        "# Verificação de qualidade\n",
        "df_cleaned = check_data_quality(df)\n",
        "print(\"DataFrame limpo:\")\n",
        "print(df_cleaned)"
      ]
    },
    {
      "cell_type": "markdown",
      "source": [
        "# 2. Segurança e Privacidade\n",
        "\n",
        "Aqui está um exemplo simples de como anonimizar dados sensíveis. Neste caso, vamos usar a biblioteca FPE para fazer a criptografia de nomes."
      ],
      "metadata": {
        "id": "NkSqoch6n-Dj"
      }
    },
    {
      "cell_type": "code",
      "source": [
        "from cryptography.fernet import Fernet\n",
        "\n",
        "# Gerando uma chave para criptografia\n",
        "key = Fernet.generate_key()\n",
        "cipher_suite = Fernet(key)\n",
        "\n",
        "# Função para criptografar dados sensíveis\n",
        "def encrypt_data(df, column):\n",
        "    df[column] = df[column].apply(lambda x: cipher_suite.encrypt(x.encode()).decode() if pd.notnull(x) else x)\n",
        "    return df"
      ],
      "metadata": {
        "id": "X7PKFb4inAA2"
      },
      "execution_count": 2,
      "outputs": []
    },
    {
      "cell_type": "code",
      "source": [
        "# Exemplo de uso\n",
        "df = pd.DataFrame({'name': ['Alice', 'Bob', 'Charlie']})\n",
        "df = encrypt_data(df, 'name')\n",
        "print(\"DataFrame com nomes criptografados:\")\n",
        "print(df)"
      ],
      "metadata": {
        "colab": {
          "base_uri": "https://localhost:8080/"
        },
        "id": "vm4j2TDYoWzm",
        "outputId": "950fabe3-0560-48d0-f2a0-a4d0e54f4c2e"
      },
      "execution_count": 3,
      "outputs": [
        {
          "output_type": "stream",
          "name": "stdout",
          "text": [
            "DataFrame com nomes criptografados:\n",
            "                                                name\n",
            "0  gAAAAABnI4ZEO5UgbMvdfTm3gX5yXRPqe9hV2B1uUAIt_h...\n",
            "1  gAAAAABnI4ZE0GjLgK7qHQisFs8QseQ_K5cSvUe-n2zE2T...\n",
            "2  gAAAAABnI4ZEkRCoHg1Edv6JFuDu4mflU_1X1rguPfKoSE...\n"
          ]
        }
      ]
    },
    {
      "cell_type": "markdown",
      "source": [
        "# 3. Rastreabilidade dos Dados\n",
        "\n",
        "Um exemplo de como rastrear a origem dos dados e registrar alterações pode ser feito utilizando um dicionário para armazenar informações sobre a modificação dos dados."
      ],
      "metadata": {
        "id": "_-ijRaajoER9"
      }
    },
    {
      "cell_type": "code",
      "source": [
        "import datetime\n",
        "\n",
        "# Dicionário para rastrear alterações\n",
        "data_audit = []\n",
        "\n",
        "def track_changes(old_value, new_value, column):\n",
        "    if old_value != new_value:\n",
        "        data_audit.append({\n",
        "            'column': column,\n",
        "            'old_value': old_value,\n",
        "            'new_value': new_value,\n",
        "            'timestamp': datetime.datetime.now()\n",
        "        })\n",
        "\n",
        "# Exemplo de atualização de dados\n",
        "def update_age(df, index, new_age):\n",
        "    old_age = df.at[index, 'age']\n",
        "    df.at[index, 'age'] = new_age\n",
        "    track_changes(old_age, new_age, 'age')"
      ],
      "metadata": {
        "id": "0wqn363YoHja"
      },
      "execution_count": 4,
      "outputs": []
    },
    {
      "cell_type": "code",
      "source": [
        "# Criando um DataFrame e atualizando um valor\n",
        "df = pd.DataFrame({'name': ['Alice', 'Bob', 'Charlie'], 'age': [25, 30, 35]})\n",
        "update_age(df, 1, 31)\n",
        "\n",
        "# Exibindo a auditoria de dados\n",
        "print(\"Auditoria de alterações:\")\n",
        "print(data_audit)"
      ],
      "metadata": {
        "colab": {
          "base_uri": "https://localhost:8080/"
        },
        "id": "6CFz3h0JoUNy",
        "outputId": "6192b249-15ef-4432-9d91-e0ac673824cc"
      },
      "execution_count": 5,
      "outputs": [
        {
          "output_type": "stream",
          "name": "stdout",
          "text": [
            "Auditoria de alterações:\n",
            "[{'column': 'age', 'old_value': 30, 'new_value': 31, 'timestamp': datetime.datetime(2024, 10, 31, 13, 29, 40, 716326)}]\n"
          ]
        }
      ]
    },
    {
      "cell_type": "markdown",
      "source": [
        "# 4. Documentação dos Dados\n",
        "\n",
        "A documentação dos dados é fundamental para a governança. Um exemplo simples de como documentar a estrutura de um DataFrame pode ser feito com um dicionário."
      ],
      "metadata": {
        "id": "EI-f9Na7ojYh"
      }
    },
    {
      "cell_type": "code",
      "source": [
        "# Documentação do DataFrame\n",
        "data_documentation = {\n",
        "    'columns': {\n",
        "        'name': 'Nome da pessoa',\n",
        "        'age': 'Idade da pessoa',\n",
        "    },\n",
        "    'description': 'Este DataFrame contém informações básicas sobre pessoas.'\n",
        "}\n",
        "\n",
        "print(\"Documentação dos dados:\")\n",
        "print(data_documentation)"
      ],
      "metadata": {
        "colab": {
          "base_uri": "https://localhost:8080/"
        },
        "id": "5_yNgM2DolER",
        "outputId": "111f2135-5340-43ff-e2c1-8e912aa8f59f"
      },
      "execution_count": 6,
      "outputs": [
        {
          "output_type": "stream",
          "name": "stdout",
          "text": [
            "Documentação dos dados:\n",
            "{'columns': {'name': 'Nome da pessoa', 'age': 'Idade da pessoa'}, 'description': 'Este DataFrame contém informações básicas sobre pessoas.'}\n"
          ]
        }
      ]
    }
  ]
}